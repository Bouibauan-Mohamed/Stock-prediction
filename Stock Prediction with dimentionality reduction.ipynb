{
 "cells": [
  {
   "cell_type": "code",
   "execution_count": null,
   "metadata": {
    "id": "2DIWQkXK1Eg1"
   },
   "outputs": [],
   "source": []
  },
  {
   "cell_type": "markdown",
   "metadata": {
    "id": "zK7w7m1M6VBm"
   },
   "source": [
    "**libraire**"
   ]
  },
  {
   "cell_type": "code",
   "execution_count": 3,
   "metadata": {
    "id": "aEsFJhg86jfO"
   },
   "outputs": [],
   "source": [
    "import pandas as pd\n",
    "import numpy as np\n",
    "import seaborn as sns\n",
    "import matplotlib.pyplot as plt\n"
   ]
  },
  {
   "cell_type": "markdown",
   "metadata": {
    "id": "YCzLNL-z57nm"
   },
   "source": [
    "**Read Data**"
   ]
  },
  {
   "cell_type": "code",
   "execution_count": 4,
   "metadata": {
    "colab": {
     "base_uri": "https://localhost:8080/",
     "height": 364
    },
    "id": "qAFT376z6FPy",
    "outputId": "f1c9fc9a-11d2-4f9e-cd43-5e8dad9cdc8b"
   },
   "outputs": [
    {
     "ename": "FileNotFoundError",
     "evalue": "ignored",
     "output_type": "error",
     "traceback": [
      "\u001b[0;31m---------------------------------------------------------------------------\u001b[0m",
      "\u001b[0;31mFileNotFoundError\u001b[0m                         Traceback (most recent call last)",
      "\u001b[0;32m<ipython-input-4-25b4ddfc3271>\u001b[0m in \u001b[0;36m<module>\u001b[0;34m()\u001b[0m\n\u001b[0;32m----> 1\u001b[0;31m \u001b[0mApple\u001b[0m\u001b[0;34m=\u001b[0m\u001b[0mpd\u001b[0m\u001b[0;34m.\u001b[0m\u001b[0mread_csv\u001b[0m\u001b[0;34m(\u001b[0m\u001b[0;34m'/content/drive/MyDrive/Data_projet/Apple_NAN.csv'\u001b[0m\u001b[0;34m)\u001b[0m\u001b[0;34m\u001b[0m\u001b[0;34m\u001b[0m\u001b[0m\n\u001b[0m\u001b[1;32m      2\u001b[0m \u001b[0mGoogle\u001b[0m\u001b[0;34m=\u001b[0m\u001b[0mpd\u001b[0m\u001b[0;34m.\u001b[0m\u001b[0mread_csv\u001b[0m\u001b[0;34m(\u001b[0m\u001b[0;34m'/content/drive/MyDrive/Data_projet/Google_NAN.csv'\u001b[0m\u001b[0;34m)\u001b[0m\u001b[0;34m\u001b[0m\u001b[0;34m\u001b[0m\u001b[0m\n\u001b[1;32m      3\u001b[0m \u001b[0mAmazon\u001b[0m\u001b[0;34m=\u001b[0m\u001b[0mpd\u001b[0m\u001b[0;34m.\u001b[0m\u001b[0mread_csv\u001b[0m\u001b[0;34m(\u001b[0m\u001b[0;34m'/content/drive/MyDrive/Data_projet/Amazon_NAN.csv'\u001b[0m\u001b[0;34m)\u001b[0m\u001b[0;34m\u001b[0m\u001b[0;34m\u001b[0m\u001b[0m\n\u001b[1;32m      4\u001b[0m \u001b[0mTesla\u001b[0m\u001b[0;34m=\u001b[0m\u001b[0mpd\u001b[0m\u001b[0;34m.\u001b[0m\u001b[0mread_csv\u001b[0m\u001b[0;34m(\u001b[0m\u001b[0;34m'/content/drive/MyDrive/Data_projet/Tesla_NAN.csv'\u001b[0m\u001b[0;34m)\u001b[0m\u001b[0;34m\u001b[0m\u001b[0;34m\u001b[0m\u001b[0m\n",
      "\u001b[0;32m/usr/local/lib/python3.7/dist-packages/pandas/util/_decorators.py\u001b[0m in \u001b[0;36mwrapper\u001b[0;34m(*args, **kwargs)\u001b[0m\n\u001b[1;32m    309\u001b[0m                     \u001b[0mstacklevel\u001b[0m\u001b[0;34m=\u001b[0m\u001b[0mstacklevel\u001b[0m\u001b[0;34m,\u001b[0m\u001b[0;34m\u001b[0m\u001b[0;34m\u001b[0m\u001b[0m\n\u001b[1;32m    310\u001b[0m                 )\n\u001b[0;32m--> 311\u001b[0;31m             \u001b[0;32mreturn\u001b[0m \u001b[0mfunc\u001b[0m\u001b[0;34m(\u001b[0m\u001b[0;34m*\u001b[0m\u001b[0margs\u001b[0m\u001b[0;34m,\u001b[0m \u001b[0;34m**\u001b[0m\u001b[0mkwargs\u001b[0m\u001b[0;34m)\u001b[0m\u001b[0;34m\u001b[0m\u001b[0;34m\u001b[0m\u001b[0m\n\u001b[0m\u001b[1;32m    312\u001b[0m \u001b[0;34m\u001b[0m\u001b[0m\n\u001b[1;32m    313\u001b[0m         \u001b[0;32mreturn\u001b[0m \u001b[0mwrapper\u001b[0m\u001b[0;34m\u001b[0m\u001b[0;34m\u001b[0m\u001b[0m\n",
      "\u001b[0;32m/usr/local/lib/python3.7/dist-packages/pandas/io/parsers/readers.py\u001b[0m in \u001b[0;36mread_csv\u001b[0;34m(filepath_or_buffer, sep, delimiter, header, names, index_col, usecols, squeeze, prefix, mangle_dupe_cols, dtype, engine, converters, true_values, false_values, skipinitialspace, skiprows, skipfooter, nrows, na_values, keep_default_na, na_filter, verbose, skip_blank_lines, parse_dates, infer_datetime_format, keep_date_col, date_parser, dayfirst, cache_dates, iterator, chunksize, compression, thousands, decimal, lineterminator, quotechar, quoting, doublequote, escapechar, comment, encoding, encoding_errors, dialect, error_bad_lines, warn_bad_lines, on_bad_lines, delim_whitespace, low_memory, memory_map, float_precision, storage_options)\u001b[0m\n\u001b[1;32m    584\u001b[0m     \u001b[0mkwds\u001b[0m\u001b[0;34m.\u001b[0m\u001b[0mupdate\u001b[0m\u001b[0;34m(\u001b[0m\u001b[0mkwds_defaults\u001b[0m\u001b[0;34m)\u001b[0m\u001b[0;34m\u001b[0m\u001b[0;34m\u001b[0m\u001b[0m\n\u001b[1;32m    585\u001b[0m \u001b[0;34m\u001b[0m\u001b[0m\n\u001b[0;32m--> 586\u001b[0;31m     \u001b[0;32mreturn\u001b[0m \u001b[0m_read\u001b[0m\u001b[0;34m(\u001b[0m\u001b[0mfilepath_or_buffer\u001b[0m\u001b[0;34m,\u001b[0m \u001b[0mkwds\u001b[0m\u001b[0;34m)\u001b[0m\u001b[0;34m\u001b[0m\u001b[0;34m\u001b[0m\u001b[0m\n\u001b[0m\u001b[1;32m    587\u001b[0m \u001b[0;34m\u001b[0m\u001b[0m\n\u001b[1;32m    588\u001b[0m \u001b[0;34m\u001b[0m\u001b[0m\n",
      "\u001b[0;32m/usr/local/lib/python3.7/dist-packages/pandas/io/parsers/readers.py\u001b[0m in \u001b[0;36m_read\u001b[0;34m(filepath_or_buffer, kwds)\u001b[0m\n\u001b[1;32m    480\u001b[0m \u001b[0;34m\u001b[0m\u001b[0m\n\u001b[1;32m    481\u001b[0m     \u001b[0;31m# Create the parser.\u001b[0m\u001b[0;34m\u001b[0m\u001b[0;34m\u001b[0m\u001b[0;34m\u001b[0m\u001b[0m\n\u001b[0;32m--> 482\u001b[0;31m     \u001b[0mparser\u001b[0m \u001b[0;34m=\u001b[0m \u001b[0mTextFileReader\u001b[0m\u001b[0;34m(\u001b[0m\u001b[0mfilepath_or_buffer\u001b[0m\u001b[0;34m,\u001b[0m \u001b[0;34m**\u001b[0m\u001b[0mkwds\u001b[0m\u001b[0;34m)\u001b[0m\u001b[0;34m\u001b[0m\u001b[0;34m\u001b[0m\u001b[0m\n\u001b[0m\u001b[1;32m    483\u001b[0m \u001b[0;34m\u001b[0m\u001b[0m\n\u001b[1;32m    484\u001b[0m     \u001b[0;32mif\u001b[0m \u001b[0mchunksize\u001b[0m \u001b[0;32mor\u001b[0m \u001b[0miterator\u001b[0m\u001b[0;34m:\u001b[0m\u001b[0;34m\u001b[0m\u001b[0;34m\u001b[0m\u001b[0m\n",
      "\u001b[0;32m/usr/local/lib/python3.7/dist-packages/pandas/io/parsers/readers.py\u001b[0m in \u001b[0;36m__init__\u001b[0;34m(self, f, engine, **kwds)\u001b[0m\n\u001b[1;32m    809\u001b[0m             \u001b[0mself\u001b[0m\u001b[0;34m.\u001b[0m\u001b[0moptions\u001b[0m\u001b[0;34m[\u001b[0m\u001b[0;34m\"has_index_names\"\u001b[0m\u001b[0;34m]\u001b[0m \u001b[0;34m=\u001b[0m \u001b[0mkwds\u001b[0m\u001b[0;34m[\u001b[0m\u001b[0;34m\"has_index_names\"\u001b[0m\u001b[0;34m]\u001b[0m\u001b[0;34m\u001b[0m\u001b[0;34m\u001b[0m\u001b[0m\n\u001b[1;32m    810\u001b[0m \u001b[0;34m\u001b[0m\u001b[0m\n\u001b[0;32m--> 811\u001b[0;31m         \u001b[0mself\u001b[0m\u001b[0;34m.\u001b[0m\u001b[0m_engine\u001b[0m \u001b[0;34m=\u001b[0m \u001b[0mself\u001b[0m\u001b[0;34m.\u001b[0m\u001b[0m_make_engine\u001b[0m\u001b[0;34m(\u001b[0m\u001b[0mself\u001b[0m\u001b[0;34m.\u001b[0m\u001b[0mengine\u001b[0m\u001b[0;34m)\u001b[0m\u001b[0;34m\u001b[0m\u001b[0;34m\u001b[0m\u001b[0m\n\u001b[0m\u001b[1;32m    812\u001b[0m \u001b[0;34m\u001b[0m\u001b[0m\n\u001b[1;32m    813\u001b[0m     \u001b[0;32mdef\u001b[0m \u001b[0mclose\u001b[0m\u001b[0;34m(\u001b[0m\u001b[0mself\u001b[0m\u001b[0;34m)\u001b[0m\u001b[0;34m:\u001b[0m\u001b[0;34m\u001b[0m\u001b[0;34m\u001b[0m\u001b[0m\n",
      "\u001b[0;32m/usr/local/lib/python3.7/dist-packages/pandas/io/parsers/readers.py\u001b[0m in \u001b[0;36m_make_engine\u001b[0;34m(self, engine)\u001b[0m\n\u001b[1;32m   1038\u001b[0m             )\n\u001b[1;32m   1039\u001b[0m         \u001b[0;31m# error: Too many arguments for \"ParserBase\"\u001b[0m\u001b[0;34m\u001b[0m\u001b[0;34m\u001b[0m\u001b[0;34m\u001b[0m\u001b[0m\n\u001b[0;32m-> 1040\u001b[0;31m         \u001b[0;32mreturn\u001b[0m \u001b[0mmapping\u001b[0m\u001b[0;34m[\u001b[0m\u001b[0mengine\u001b[0m\u001b[0;34m]\u001b[0m\u001b[0;34m(\u001b[0m\u001b[0mself\u001b[0m\u001b[0;34m.\u001b[0m\u001b[0mf\u001b[0m\u001b[0;34m,\u001b[0m \u001b[0;34m**\u001b[0m\u001b[0mself\u001b[0m\u001b[0;34m.\u001b[0m\u001b[0moptions\u001b[0m\u001b[0;34m)\u001b[0m  \u001b[0;31m# type: ignore[call-arg]\u001b[0m\u001b[0;34m\u001b[0m\u001b[0;34m\u001b[0m\u001b[0m\n\u001b[0m\u001b[1;32m   1041\u001b[0m \u001b[0;34m\u001b[0m\u001b[0m\n\u001b[1;32m   1042\u001b[0m     \u001b[0;32mdef\u001b[0m \u001b[0m_failover_to_python\u001b[0m\u001b[0;34m(\u001b[0m\u001b[0mself\u001b[0m\u001b[0;34m)\u001b[0m\u001b[0;34m:\u001b[0m\u001b[0;34m\u001b[0m\u001b[0;34m\u001b[0m\u001b[0m\n",
      "\u001b[0;32m/usr/local/lib/python3.7/dist-packages/pandas/io/parsers/c_parser_wrapper.py\u001b[0m in \u001b[0;36m__init__\u001b[0;34m(self, src, **kwds)\u001b[0m\n\u001b[1;32m     49\u001b[0m \u001b[0;34m\u001b[0m\u001b[0m\n\u001b[1;32m     50\u001b[0m         \u001b[0;31m# open handles\u001b[0m\u001b[0;34m\u001b[0m\u001b[0;34m\u001b[0m\u001b[0;34m\u001b[0m\u001b[0m\n\u001b[0;32m---> 51\u001b[0;31m         \u001b[0mself\u001b[0m\u001b[0;34m.\u001b[0m\u001b[0m_open_handles\u001b[0m\u001b[0;34m(\u001b[0m\u001b[0msrc\u001b[0m\u001b[0;34m,\u001b[0m \u001b[0mkwds\u001b[0m\u001b[0;34m)\u001b[0m\u001b[0;34m\u001b[0m\u001b[0;34m\u001b[0m\u001b[0m\n\u001b[0m\u001b[1;32m     52\u001b[0m         \u001b[0;32massert\u001b[0m \u001b[0mself\u001b[0m\u001b[0;34m.\u001b[0m\u001b[0mhandles\u001b[0m \u001b[0;32mis\u001b[0m \u001b[0;32mnot\u001b[0m \u001b[0;32mNone\u001b[0m\u001b[0;34m\u001b[0m\u001b[0;34m\u001b[0m\u001b[0m\n\u001b[1;32m     53\u001b[0m \u001b[0;34m\u001b[0m\u001b[0m\n",
      "\u001b[0;32m/usr/local/lib/python3.7/dist-packages/pandas/io/parsers/base_parser.py\u001b[0m in \u001b[0;36m_open_handles\u001b[0;34m(self, src, kwds)\u001b[0m\n\u001b[1;32m    227\u001b[0m             \u001b[0mmemory_map\u001b[0m\u001b[0;34m=\u001b[0m\u001b[0mkwds\u001b[0m\u001b[0;34m.\u001b[0m\u001b[0mget\u001b[0m\u001b[0;34m(\u001b[0m\u001b[0;34m\"memory_map\"\u001b[0m\u001b[0;34m,\u001b[0m \u001b[0;32mFalse\u001b[0m\u001b[0;34m)\u001b[0m\u001b[0;34m,\u001b[0m\u001b[0;34m\u001b[0m\u001b[0;34m\u001b[0m\u001b[0m\n\u001b[1;32m    228\u001b[0m             \u001b[0mstorage_options\u001b[0m\u001b[0;34m=\u001b[0m\u001b[0mkwds\u001b[0m\u001b[0;34m.\u001b[0m\u001b[0mget\u001b[0m\u001b[0;34m(\u001b[0m\u001b[0;34m\"storage_options\"\u001b[0m\u001b[0;34m,\u001b[0m \u001b[0;32mNone\u001b[0m\u001b[0;34m)\u001b[0m\u001b[0;34m,\u001b[0m\u001b[0;34m\u001b[0m\u001b[0;34m\u001b[0m\u001b[0m\n\u001b[0;32m--> 229\u001b[0;31m             \u001b[0merrors\u001b[0m\u001b[0;34m=\u001b[0m\u001b[0mkwds\u001b[0m\u001b[0;34m.\u001b[0m\u001b[0mget\u001b[0m\u001b[0;34m(\u001b[0m\u001b[0;34m\"encoding_errors\"\u001b[0m\u001b[0;34m,\u001b[0m \u001b[0;34m\"strict\"\u001b[0m\u001b[0;34m)\u001b[0m\u001b[0;34m,\u001b[0m\u001b[0;34m\u001b[0m\u001b[0;34m\u001b[0m\u001b[0m\n\u001b[0m\u001b[1;32m    230\u001b[0m         )\n\u001b[1;32m    231\u001b[0m \u001b[0;34m\u001b[0m\u001b[0m\n",
      "\u001b[0;32m/usr/local/lib/python3.7/dist-packages/pandas/io/common.py\u001b[0m in \u001b[0;36mget_handle\u001b[0;34m(path_or_buf, mode, encoding, compression, memory_map, is_text, errors, storage_options)\u001b[0m\n\u001b[1;32m    705\u001b[0m                 \u001b[0mencoding\u001b[0m\u001b[0;34m=\u001b[0m\u001b[0mioargs\u001b[0m\u001b[0;34m.\u001b[0m\u001b[0mencoding\u001b[0m\u001b[0;34m,\u001b[0m\u001b[0;34m\u001b[0m\u001b[0;34m\u001b[0m\u001b[0m\n\u001b[1;32m    706\u001b[0m                 \u001b[0merrors\u001b[0m\u001b[0;34m=\u001b[0m\u001b[0merrors\u001b[0m\u001b[0;34m,\u001b[0m\u001b[0;34m\u001b[0m\u001b[0;34m\u001b[0m\u001b[0m\n\u001b[0;32m--> 707\u001b[0;31m                 \u001b[0mnewline\u001b[0m\u001b[0;34m=\u001b[0m\u001b[0;34m\"\"\u001b[0m\u001b[0;34m,\u001b[0m\u001b[0;34m\u001b[0m\u001b[0;34m\u001b[0m\u001b[0m\n\u001b[0m\u001b[1;32m    708\u001b[0m             )\n\u001b[1;32m    709\u001b[0m         \u001b[0;32melse\u001b[0m\u001b[0;34m:\u001b[0m\u001b[0;34m\u001b[0m\u001b[0;34m\u001b[0m\u001b[0m\n",
      "\u001b[0;31mFileNotFoundError\u001b[0m: [Errno 2] No such file or directory: '/content/drive/MyDrive/Data_projet/Apple_NAN.csv'"
     ]
    }
   ],
   "source": [
    "Apple=pd.read_csv('/content/drive/MyDrive/Data_projet/Apple_NAN.csv')\n",
    "Google=pd.read_csv('/content/drive/MyDrive/Data_projet/Google_NAN.csv')\n",
    "Amazon=pd.read_csv('/content/drive/MyDrive/Data_projet/Amazon_NAN.csv')\n",
    "Tesla=pd.read_csv('/content/drive/MyDrive/Data_projet/Tesla_NAN.csv')"
   ]
  },
  {
   "cell_type": "code",
   "execution_count": 5,
   "metadata": {
    "colab": {
     "base_uri": "https://localhost:8080/",
     "height": 166
    },
    "id": "hPBhJVmI6x0C",
    "outputId": "307cc711-836d-44c2-b83b-7be0bff07c4d"
   },
   "outputs": [
    {
     "ename": "NameError",
     "evalue": "ignored",
     "output_type": "error",
     "traceback": [
      "\u001b[0;31m---------------------------------------------------------------------------\u001b[0m",
      "\u001b[0;31mNameError\u001b[0m                                 Traceback (most recent call last)",
      "\u001b[0;32m<ipython-input-5-803a3ee64fe1>\u001b[0m in \u001b[0;36m<module>\u001b[0;34m()\u001b[0m\n\u001b[0;32m----> 1\u001b[0;31m \u001b[0mApple\u001b[0m\u001b[0;34m.\u001b[0m\u001b[0mhead\u001b[0m\u001b[0;34m(\u001b[0m\u001b[0;36m6\u001b[0m\u001b[0;34m)\u001b[0m\u001b[0;34m\u001b[0m\u001b[0;34m\u001b[0m\u001b[0m\n\u001b[0m",
      "\u001b[0;31mNameError\u001b[0m: name 'Apple' is not defined"
     ]
    }
   ],
   "source": [
    "Apple.head(6)"
   ]
  },
  {
   "cell_type": "code",
   "execution_count": null,
   "metadata": {
    "colab": {
     "base_uri": "https://localhost:8080/",
     "height": 237
    },
    "id": "BhFaNgOd7Jxa",
    "outputId": "cc435719-6168-46c6-e696-0085a414c19d"
   },
   "outputs": [
    {
     "data": {
      "text/html": [
       "\n",
       "  <div id=\"df-4ad7425f-4b4c-4c48-8af4-1fe453fc44d0\">\n",
       "    <div class=\"colab-df-container\">\n",
       "      <div>\n",
       "<style scoped>\n",
       "    .dataframe tbody tr th:only-of-type {\n",
       "        vertical-align: middle;\n",
       "    }\n",
       "\n",
       "    .dataframe tbody tr th {\n",
       "        vertical-align: top;\n",
       "    }\n",
       "\n",
       "    .dataframe thead th {\n",
       "        text-align: right;\n",
       "    }\n",
       "</style>\n",
       "<table border=\"1\" class=\"dataframe\">\n",
       "  <thead>\n",
       "    <tr style=\"text-align: right;\">\n",
       "      <th></th>\n",
       "      <th>Date</th>\n",
       "      <th>Price</th>\n",
       "      <th>Open</th>\n",
       "      <th>High</th>\n",
       "      <th>Low</th>\n",
       "      <th>Vol.</th>\n",
       "      <th>Change %</th>\n",
       "      <th>coef</th>\n",
       "      <th>state</th>\n",
       "      <th>activity_in</th>\n",
       "      <th>activity_out</th>\n",
       "    </tr>\n",
       "  </thead>\n",
       "  <tbody>\n",
       "    <tr>\n",
       "      <th>0</th>\n",
       "      <td>Jan 14, 2022</td>\n",
       "      <td>2,789.61</td>\n",
       "      <td>2,739.97</td>\n",
       "      <td>2,814.73</td>\n",
       "      <td>2,739.97</td>\n",
       "      <td>1.45M</td>\n",
       "      <td>NaN</td>\n",
       "      <td>440.965533</td>\n",
       "      <td>3.0</td>\n",
       "      <td>604.720961</td>\n",
       "      <td>750.648842</td>\n",
       "    </tr>\n",
       "    <tr>\n",
       "      <th>1</th>\n",
       "      <td>Jan 13, 2022</td>\n",
       "      <td>2,771.74</td>\n",
       "      <td>2,830.80</td>\n",
       "      <td>2,857.00</td>\n",
       "      <td>2,768.18</td>\n",
       "      <td>1.49M</td>\n",
       "      <td>-2.01%</td>\n",
       "      <td>964.955645</td>\n",
       "      <td>7.0</td>\n",
       "      <td>737.024029</td>\n",
       "      <td>114.104153</td>\n",
       "    </tr>\n",
       "    <tr>\n",
       "      <th>2</th>\n",
       "      <td>Jan 12, 2022</td>\n",
       "      <td>2,828.61</td>\n",
       "      <td>2,823.00</td>\n",
       "      <td>2,852.16</td>\n",
       "      <td>2,813.89</td>\n",
       "      <td>1.28M</td>\n",
       "      <td>1.21%</td>\n",
       "      <td>716.311835</td>\n",
       "      <td>3.0</td>\n",
       "      <td>383.405551</td>\n",
       "      <td>290.800200</td>\n",
       "    </tr>\n",
       "    <tr>\n",
       "      <th>3</th>\n",
       "      <td>Jan 11, 2022</td>\n",
       "      <td>2,794.72</td>\n",
       "      <td>2,760.14</td>\n",
       "      <td>2,804.32</td>\n",
       "      <td>2,733.84</td>\n",
       "      <td>1.21M</td>\n",
       "      <td>0.77%</td>\n",
       "      <td>507.215965</td>\n",
       "      <td>2.0</td>\n",
       "      <td>140.756690</td>\n",
       "      <td>893.501867</td>\n",
       "    </tr>\n",
       "    <tr>\n",
       "      <th>4</th>\n",
       "      <td>Jan 10, 2022</td>\n",
       "      <td>2,773.39</td>\n",
       "      <td>2,701.56</td>\n",
       "      <td>2,776.39</td>\n",
       "      <td>2,663.29</td>\n",
       "      <td>2.20M</td>\n",
       "      <td>1.21%</td>\n",
       "      <td>5.046724</td>\n",
       "      <td>5.0</td>\n",
       "      <td>764.075383</td>\n",
       "      <td>57.522567</td>\n",
       "    </tr>\n",
       "    <tr>\n",
       "      <th>5</th>\n",
       "      <td>Jan 07, 2022</td>\n",
       "      <td>2,740.34</td>\n",
       "      <td>2,762.91</td>\n",
       "      <td>2,768.97</td>\n",
       "      <td>2,715.33</td>\n",
       "      <td>1.49M</td>\n",
       "      <td>-0.53%</td>\n",
       "      <td>712.018573</td>\n",
       "      <td>1.0</td>\n",
       "      <td>564.190168</td>\n",
       "      <td>76.854707</td>\n",
       "    </tr>\n",
       "  </tbody>\n",
       "</table>\n",
       "</div>\n",
       "      <button class=\"colab-df-convert\" onclick=\"convertToInteractive('df-4ad7425f-4b4c-4c48-8af4-1fe453fc44d0')\"\n",
       "              title=\"Convert this dataframe to an interactive table.\"\n",
       "              style=\"display:none;\">\n",
       "        \n",
       "  <svg xmlns=\"http://www.w3.org/2000/svg\" height=\"24px\"viewBox=\"0 0 24 24\"\n",
       "       width=\"24px\">\n",
       "    <path d=\"M0 0h24v24H0V0z\" fill=\"none\"/>\n",
       "    <path d=\"M18.56 5.44l.94 2.06.94-2.06 2.06-.94-2.06-.94-.94-2.06-.94 2.06-2.06.94zm-11 1L8.5 8.5l.94-2.06 2.06-.94-2.06-.94L8.5 2.5l-.94 2.06-2.06.94zm10 10l.94 2.06.94-2.06 2.06-.94-2.06-.94-.94-2.06-.94 2.06-2.06.94z\"/><path d=\"M17.41 7.96l-1.37-1.37c-.4-.4-.92-.59-1.43-.59-.52 0-1.04.2-1.43.59L10.3 9.45l-7.72 7.72c-.78.78-.78 2.05 0 2.83L4 21.41c.39.39.9.59 1.41.59.51 0 1.02-.2 1.41-.59l7.78-7.78 2.81-2.81c.8-.78.8-2.07 0-2.86zM5.41 20L4 18.59l7.72-7.72 1.47 1.35L5.41 20z\"/>\n",
       "  </svg>\n",
       "      </button>\n",
       "      \n",
       "  <style>\n",
       "    .colab-df-container {\n",
       "      display:flex;\n",
       "      flex-wrap:wrap;\n",
       "      gap: 12px;\n",
       "    }\n",
       "\n",
       "    .colab-df-convert {\n",
       "      background-color: #E8F0FE;\n",
       "      border: none;\n",
       "      border-radius: 50%;\n",
       "      cursor: pointer;\n",
       "      display: none;\n",
       "      fill: #1967D2;\n",
       "      height: 32px;\n",
       "      padding: 0 0 0 0;\n",
       "      width: 32px;\n",
       "    }\n",
       "\n",
       "    .colab-df-convert:hover {\n",
       "      background-color: #E2EBFA;\n",
       "      box-shadow: 0px 1px 2px rgba(60, 64, 67, 0.3), 0px 1px 3px 1px rgba(60, 64, 67, 0.15);\n",
       "      fill: #174EA6;\n",
       "    }\n",
       "\n",
       "    [theme=dark] .colab-df-convert {\n",
       "      background-color: #3B4455;\n",
       "      fill: #D2E3FC;\n",
       "    }\n",
       "\n",
       "    [theme=dark] .colab-df-convert:hover {\n",
       "      background-color: #434B5C;\n",
       "      box-shadow: 0px 1px 3px 1px rgba(0, 0, 0, 0.15);\n",
       "      filter: drop-shadow(0px 1px 2px rgba(0, 0, 0, 0.3));\n",
       "      fill: #FFFFFF;\n",
       "    }\n",
       "  </style>\n",
       "\n",
       "      <script>\n",
       "        const buttonEl =\n",
       "          document.querySelector('#df-4ad7425f-4b4c-4c48-8af4-1fe453fc44d0 button.colab-df-convert');\n",
       "        buttonEl.style.display =\n",
       "          google.colab.kernel.accessAllowed ? 'block' : 'none';\n",
       "\n",
       "        async function convertToInteractive(key) {\n",
       "          const element = document.querySelector('#df-4ad7425f-4b4c-4c48-8af4-1fe453fc44d0');\n",
       "          const dataTable =\n",
       "            await google.colab.kernel.invokeFunction('convertToInteractive',\n",
       "                                                     [key], {});\n",
       "          if (!dataTable) return;\n",
       "\n",
       "          const docLinkHtml = 'Like what you see? Visit the ' +\n",
       "            '<a target=\"_blank\" href=https://colab.research.google.com/notebooks/data_table.ipynb>data table notebook</a>'\n",
       "            + ' to learn more about interactive tables.';\n",
       "          element.innerHTML = '';\n",
       "          dataTable['output_type'] = 'display_data';\n",
       "          await google.colab.output.renderOutput(dataTable, element);\n",
       "          const docLink = document.createElement('div');\n",
       "          docLink.innerHTML = docLinkHtml;\n",
       "          element.appendChild(docLink);\n",
       "        }\n",
       "      </script>\n",
       "    </div>\n",
       "  </div>\n",
       "  "
      ],
      "text/plain": [
       "           Date     Price      Open  ... state activity_in activity_out\n",
       "0  Jan 14, 2022  2,789.61  2,739.97  ...   3.0  604.720961   750.648842\n",
       "1  Jan 13, 2022  2,771.74  2,830.80  ...   7.0  737.024029   114.104153\n",
       "2  Jan 12, 2022  2,828.61  2,823.00  ...   3.0  383.405551   290.800200\n",
       "3  Jan 11, 2022  2,794.72  2,760.14  ...   2.0  140.756690   893.501867\n",
       "4  Jan 10, 2022  2,773.39  2,701.56  ...   5.0  764.075383    57.522567\n",
       "5  Jan 07, 2022  2,740.34  2,762.91  ...   1.0  564.190168    76.854707\n",
       "\n",
       "[6 rows x 11 columns]"
      ]
     },
     "execution_count": 4,
     "metadata": {},
     "output_type": "execute_result"
    }
   ],
   "source": [
    "Google.head(6)"
   ]
  },
  {
   "cell_type": "code",
   "execution_count": null,
   "metadata": {
    "colab": {
     "base_uri": "https://localhost:8080/"
    },
    "id": "Ot0GPXqs_1Ms",
    "outputId": "4153dc5b-1fc1-441c-b2c7-ba10abd7c2f1"
   },
   "outputs": [
    {
     "name": "stdout",
     "output_type": "stream",
     "text": [
      "Apple size (1028, 11)\n",
      "Apple size (1028, 11)\n",
      "Apple size (1028, 11)\n",
      "Apple size (1028, 11)\n"
     ]
    }
   ],
   "source": [
    "print('Apple size',Apple.shape)\n",
    "print('Apple size',Google.shape)\n",
    "print('Apple size',Amazon.shape)\n",
    "print('Apple size',Tesla.shape)"
   ]
  },
  {
   "cell_type": "markdown",
   "metadata": {
    "id": "4hAd0L9b_fxR"
   },
   "source": [
    "**Concate dataset Apple, Google,Tesla, Amazon**"
   ]
  },
  {
   "cell_type": "code",
   "execution_count": null,
   "metadata": {
    "colab": {
     "base_uri": "https://localhost:8080/",
     "height": 676
    },
    "id": "QpFtXjhe_tHO",
    "outputId": "66962b25-0f11-467c-856e-95ff8bca2658"
   },
   "outputs": [
    {
     "data": {
      "text/html": [
       "\n",
       "  <div id=\"df-294a922b-6288-4916-bcca-8fc95c7666f9\">\n",
       "    <div class=\"colab-df-container\">\n",
       "      <div>\n",
       "<style scoped>\n",
       "    .dataframe tbody tr th:only-of-type {\n",
       "        vertical-align: middle;\n",
       "    }\n",
       "\n",
       "    .dataframe tbody tr th {\n",
       "        vertical-align: top;\n",
       "    }\n",
       "\n",
       "    .dataframe thead th {\n",
       "        text-align: right;\n",
       "    }\n",
       "</style>\n",
       "<table border=\"1\" class=\"dataframe\">\n",
       "  <thead>\n",
       "    <tr style=\"text-align: right;\">\n",
       "      <th></th>\n",
       "      <th>Date</th>\n",
       "      <th>Price</th>\n",
       "      <th>Open</th>\n",
       "      <th>High</th>\n",
       "      <th>Low</th>\n",
       "      <th>Vol.</th>\n",
       "      <th>Change %</th>\n",
       "      <th>coef</th>\n",
       "      <th>state</th>\n",
       "      <th>activity_in</th>\n",
       "      <th>activity_out</th>\n",
       "      <th>company_name</th>\n",
       "    </tr>\n",
       "  </thead>\n",
       "  <tbody>\n",
       "    <tr>\n",
       "      <th>1020</th>\n",
       "      <td>Dec 27, 2017</td>\n",
       "      <td>42.65</td>\n",
       "      <td>42.52</td>\n",
       "      <td>42.7</td>\n",
       "      <td>42.43</td>\n",
       "      <td>85.99M</td>\n",
       "      <td>0.02%</td>\n",
       "      <td>607.188563</td>\n",
       "      <td>2.0</td>\n",
       "      <td>459.012446</td>\n",
       "      <td>723.116596</td>\n",
       "      <td>APPLE</td>\n",
       "    </tr>\n",
       "    <tr>\n",
       "      <th>1021</th>\n",
       "      <td>Dec 26, 2017</td>\n",
       "      <td>42.64</td>\n",
       "      <td>42.7</td>\n",
       "      <td>42.87</td>\n",
       "      <td>42.42</td>\n",
       "      <td>132.74M</td>\n",
       "      <td>-2.54%</td>\n",
       "      <td>912.234279</td>\n",
       "      <td>7.0</td>\n",
       "      <td>512.988709</td>\n",
       "      <td>419.767008</td>\n",
       "      <td>APPLE</td>\n",
       "    </tr>\n",
       "    <tr>\n",
       "      <th>1022</th>\n",
       "      <td>Dec 22, 2017</td>\n",
       "      <td>43.75</td>\n",
       "      <td>43.67</td>\n",
       "      <td>43.86</td>\n",
       "      <td>43.62</td>\n",
       "      <td>65.40M</td>\n",
       "      <td>0.00%</td>\n",
       "      <td>525.357693</td>\n",
       "      <td>1.0</td>\n",
       "      <td>892.087271</td>\n",
       "      <td>274.688995</td>\n",
       "      <td>APPLE</td>\n",
       "    </tr>\n",
       "    <tr>\n",
       "      <th>1023</th>\n",
       "      <td>Dec 21, 2017</td>\n",
       "      <td>43.75</td>\n",
       "      <td>43.54</td>\n",
       "      <td>44.01</td>\n",
       "      <td>43.52</td>\n",
       "      <td>83.80M</td>\n",
       "      <td>0.37%</td>\n",
       "      <td>134.447494</td>\n",
       "      <td>7.0</td>\n",
       "      <td>714.290558</td>\n",
       "      <td>214.932556</td>\n",
       "      <td>APPLE</td>\n",
       "    </tr>\n",
       "    <tr>\n",
       "      <th>1024</th>\n",
       "      <td>Dec 20, 2017</td>\n",
       "      <td>43.59</td>\n",
       "      <td>43.72</td>\n",
       "      <td>43.85</td>\n",
       "      <td>43.31</td>\n",
       "      <td>93.90M</td>\n",
       "      <td>-0.09%</td>\n",
       "      <td>588.396452</td>\n",
       "      <td>NaN</td>\n",
       "      <td>517.921111</td>\n",
       "      <td>522.840917</td>\n",
       "      <td>APPLE</td>\n",
       "    </tr>\n",
       "    <tr>\n",
       "      <th>1025</th>\n",
       "      <td>Dec 19, 2017</td>\n",
       "      <td>43.63</td>\n",
       "      <td>43.76</td>\n",
       "      <td>43.85</td>\n",
       "      <td>NaN</td>\n",
       "      <td>109.75M</td>\n",
       "      <td>-1.07%</td>\n",
       "      <td>758.425635</td>\n",
       "      <td>0.0</td>\n",
       "      <td>341.587978</td>\n",
       "      <td>29.517790</td>\n",
       "      <td>APPLE</td>\n",
       "    </tr>\n",
       "    <tr>\n",
       "      <th>1026</th>\n",
       "      <td>Dec 18, 2017</td>\n",
       "      <td>44.1</td>\n",
       "      <td>43.72</td>\n",
       "      <td>44.3</td>\n",
       "      <td>43.72</td>\n",
       "      <td>117.68M</td>\n",
       "      <td>1.40%</td>\n",
       "      <td>494.513484</td>\n",
       "      <td>3.0</td>\n",
       "      <td>195.319583</td>\n",
       "      <td>69.321476</td>\n",
       "      <td>APPLE</td>\n",
       "    </tr>\n",
       "    <tr>\n",
       "      <th>1027</th>\n",
       "      <td>Dec 15, 2017</td>\n",
       "      <td>43.49</td>\n",
       "      <td>43.41</td>\n",
       "      <td>43.54</td>\n",
       "      <td>43.12</td>\n",
       "      <td>160.68M</td>\n",
       "      <td>1.02%</td>\n",
       "      <td>134.476915</td>\n",
       "      <td>8.0</td>\n",
       "      <td>653.176660</td>\n",
       "      <td>83.086196</td>\n",
       "      <td>APPLE</td>\n",
       "    </tr>\n",
       "    <tr>\n",
       "      <th>0</th>\n",
       "      <td>Jan 14, 2022</td>\n",
       "      <td>2,789.61</td>\n",
       "      <td>2,739.97</td>\n",
       "      <td>2,814.73</td>\n",
       "      <td>2,739.97</td>\n",
       "      <td>1.45M</td>\n",
       "      <td>NaN</td>\n",
       "      <td>440.965533</td>\n",
       "      <td>3.0</td>\n",
       "      <td>604.720961</td>\n",
       "      <td>750.648842</td>\n",
       "      <td>GOOGLE</td>\n",
       "    </tr>\n",
       "    <tr>\n",
       "      <th>1</th>\n",
       "      <td>Jan 13, 2022</td>\n",
       "      <td>2,771.74</td>\n",
       "      <td>2,830.80</td>\n",
       "      <td>2,857.00</td>\n",
       "      <td>2,768.18</td>\n",
       "      <td>1.49M</td>\n",
       "      <td>-2.01%</td>\n",
       "      <td>964.955645</td>\n",
       "      <td>7.0</td>\n",
       "      <td>737.024029</td>\n",
       "      <td>114.104153</td>\n",
       "      <td>GOOGLE</td>\n",
       "    </tr>\n",
       "    <tr>\n",
       "      <th>2</th>\n",
       "      <td>Jan 12, 2022</td>\n",
       "      <td>2,828.61</td>\n",
       "      <td>2,823.00</td>\n",
       "      <td>2,852.16</td>\n",
       "      <td>2,813.89</td>\n",
       "      <td>1.28M</td>\n",
       "      <td>1.21%</td>\n",
       "      <td>716.311835</td>\n",
       "      <td>3.0</td>\n",
       "      <td>383.405551</td>\n",
       "      <td>290.800200</td>\n",
       "      <td>GOOGLE</td>\n",
       "    </tr>\n",
       "    <tr>\n",
       "      <th>3</th>\n",
       "      <td>Jan 11, 2022</td>\n",
       "      <td>2,794.72</td>\n",
       "      <td>2,760.14</td>\n",
       "      <td>2,804.32</td>\n",
       "      <td>2,733.84</td>\n",
       "      <td>1.21M</td>\n",
       "      <td>0.77%</td>\n",
       "      <td>507.215965</td>\n",
       "      <td>2.0</td>\n",
       "      <td>140.756690</td>\n",
       "      <td>893.501867</td>\n",
       "      <td>GOOGLE</td>\n",
       "    </tr>\n",
       "    <tr>\n",
       "      <th>4</th>\n",
       "      <td>Jan 10, 2022</td>\n",
       "      <td>2,773.39</td>\n",
       "      <td>2,701.56</td>\n",
       "      <td>2,776.39</td>\n",
       "      <td>2,663.29</td>\n",
       "      <td>2.20M</td>\n",
       "      <td>1.21%</td>\n",
       "      <td>5.046724</td>\n",
       "      <td>5.0</td>\n",
       "      <td>764.075383</td>\n",
       "      <td>57.522567</td>\n",
       "      <td>GOOGLE</td>\n",
       "    </tr>\n",
       "    <tr>\n",
       "      <th>5</th>\n",
       "      <td>Jan 07, 2022</td>\n",
       "      <td>2,740.34</td>\n",
       "      <td>2,762.91</td>\n",
       "      <td>2,768.97</td>\n",
       "      <td>2,715.33</td>\n",
       "      <td>1.49M</td>\n",
       "      <td>-0.53%</td>\n",
       "      <td>712.018573</td>\n",
       "      <td>1.0</td>\n",
       "      <td>564.190168</td>\n",
       "      <td>76.854707</td>\n",
       "      <td>GOOGLE</td>\n",
       "    </tr>\n",
       "    <tr>\n",
       "      <th>6</th>\n",
       "      <td>Jan 06, 2022</td>\n",
       "      <td>2,754.95</td>\n",
       "      <td>2,739.97</td>\n",
       "      <td>2,798.80</td>\n",
       "      <td>2,731.17</td>\n",
       "      <td>1.83M</td>\n",
       "      <td>-0.02%</td>\n",
       "      <td>431.212213</td>\n",
       "      <td>3.0</td>\n",
       "      <td>816.740499</td>\n",
       "      <td>179.469303</td>\n",
       "      <td>GOOGLE</td>\n",
       "    </tr>\n",
       "    <tr>\n",
       "      <th>7</th>\n",
       "      <td>Jan 05, 2022</td>\n",
       "      <td>2,755.50</td>\n",
       "      <td>2,888.40</td>\n",
       "      <td>2,889.99</td>\n",
       "      <td>2,753.76</td>\n",
       "      <td>2.68M</td>\n",
       "      <td>-4.59%</td>\n",
       "      <td>795.229642</td>\n",
       "      <td>8.0</td>\n",
       "      <td>171.406684</td>\n",
       "      <td>416.516972</td>\n",
       "      <td>GOOGLE</td>\n",
       "    </tr>\n",
       "    <tr>\n",
       "      <th>8</th>\n",
       "      <td>Jan 04, 2022</td>\n",
       "      <td>2,887.99</td>\n",
       "      <td>2,907.92</td>\n",
       "      <td>2,929.70</td>\n",
       "      <td>2,874.32</td>\n",
       "      <td>1.38M</td>\n",
       "      <td>-0.41%</td>\n",
       "      <td>107.073970</td>\n",
       "      <td>9.0</td>\n",
       "      <td>873.416187</td>\n",
       "      <td>944.770577</td>\n",
       "      <td>GOOGLE</td>\n",
       "    </tr>\n",
       "    <tr>\n",
       "      <th>9</th>\n",
       "      <td>Jan 03, 2022</td>\n",
       "      <td>2,899.83</td>\n",
       "      <td>2,901.10</td>\n",
       "      <td>2,917.02</td>\n",
       "      <td>2,874.25</td>\n",
       "      <td>1.41M</td>\n",
       "      <td>0.10%</td>\n",
       "      <td>NaN</td>\n",
       "      <td>3.0</td>\n",
       "      <td>78.137078</td>\n",
       "      <td>304.405119</td>\n",
       "      <td>GOOGLE</td>\n",
       "    </tr>\n",
       "    <tr>\n",
       "      <th>10</th>\n",
       "      <td>Dec 31, 2021</td>\n",
       "      <td>2,897.04</td>\n",
       "      <td>2,921.00</td>\n",
       "      <td>2,933.97</td>\n",
       "      <td>2,897.04</td>\n",
       "      <td>879.72K</td>\n",
       "      <td>-0.92%</td>\n",
       "      <td>NaN</td>\n",
       "      <td>4.0</td>\n",
       "      <td>60.698088</td>\n",
       "      <td>430.352846</td>\n",
       "      <td>GOOGLE</td>\n",
       "    </tr>\n",
       "    <tr>\n",
       "      <th>11</th>\n",
       "      <td>Dec 30, 2021</td>\n",
       "      <td>2,924.01</td>\n",
       "      <td>2,933.88</td>\n",
       "      <td>2,946.00</td>\n",
       "      <td>2,919.89</td>\n",
       "      <td>743.71K</td>\n",
       "      <td>-0.31%</td>\n",
       "      <td>540.864260</td>\n",
       "      <td>8.0</td>\n",
       "      <td>260.198931</td>\n",
       "      <td>779.190101</td>\n",
       "      <td>GOOGLE</td>\n",
       "    </tr>\n",
       "  </tbody>\n",
       "</table>\n",
       "</div>\n",
       "      <button class=\"colab-df-convert\" onclick=\"convertToInteractive('df-294a922b-6288-4916-bcca-8fc95c7666f9')\"\n",
       "              title=\"Convert this dataframe to an interactive table.\"\n",
       "              style=\"display:none;\">\n",
       "        \n",
       "  <svg xmlns=\"http://www.w3.org/2000/svg\" height=\"24px\"viewBox=\"0 0 24 24\"\n",
       "       width=\"24px\">\n",
       "    <path d=\"M0 0h24v24H0V0z\" fill=\"none\"/>\n",
       "    <path d=\"M18.56 5.44l.94 2.06.94-2.06 2.06-.94-2.06-.94-.94-2.06-.94 2.06-2.06.94zm-11 1L8.5 8.5l.94-2.06 2.06-.94-2.06-.94L8.5 2.5l-.94 2.06-2.06.94zm10 10l.94 2.06.94-2.06 2.06-.94-2.06-.94-.94-2.06-.94 2.06-2.06.94z\"/><path d=\"M17.41 7.96l-1.37-1.37c-.4-.4-.92-.59-1.43-.59-.52 0-1.04.2-1.43.59L10.3 9.45l-7.72 7.72c-.78.78-.78 2.05 0 2.83L4 21.41c.39.39.9.59 1.41.59.51 0 1.02-.2 1.41-.59l7.78-7.78 2.81-2.81c.8-.78.8-2.07 0-2.86zM5.41 20L4 18.59l7.72-7.72 1.47 1.35L5.41 20z\"/>\n",
       "  </svg>\n",
       "      </button>\n",
       "      \n",
       "  <style>\n",
       "    .colab-df-container {\n",
       "      display:flex;\n",
       "      flex-wrap:wrap;\n",
       "      gap: 12px;\n",
       "    }\n",
       "\n",
       "    .colab-df-convert {\n",
       "      background-color: #E8F0FE;\n",
       "      border: none;\n",
       "      border-radius: 50%;\n",
       "      cursor: pointer;\n",
       "      display: none;\n",
       "      fill: #1967D2;\n",
       "      height: 32px;\n",
       "      padding: 0 0 0 0;\n",
       "      width: 32px;\n",
       "    }\n",
       "\n",
       "    .colab-df-convert:hover {\n",
       "      background-color: #E2EBFA;\n",
       "      box-shadow: 0px 1px 2px rgba(60, 64, 67, 0.3), 0px 1px 3px 1px rgba(60, 64, 67, 0.15);\n",
       "      fill: #174EA6;\n",
       "    }\n",
       "\n",
       "    [theme=dark] .colab-df-convert {\n",
       "      background-color: #3B4455;\n",
       "      fill: #D2E3FC;\n",
       "    }\n",
       "\n",
       "    [theme=dark] .colab-df-convert:hover {\n",
       "      background-color: #434B5C;\n",
       "      box-shadow: 0px 1px 3px 1px rgba(0, 0, 0, 0.15);\n",
       "      filter: drop-shadow(0px 1px 2px rgba(0, 0, 0, 0.3));\n",
       "      fill: #FFFFFF;\n",
       "    }\n",
       "  </style>\n",
       "\n",
       "      <script>\n",
       "        const buttonEl =\n",
       "          document.querySelector('#df-294a922b-6288-4916-bcca-8fc95c7666f9 button.colab-df-convert');\n",
       "        buttonEl.style.display =\n",
       "          google.colab.kernel.accessAllowed ? 'block' : 'none';\n",
       "\n",
       "        async function convertToInteractive(key) {\n",
       "          const element = document.querySelector('#df-294a922b-6288-4916-bcca-8fc95c7666f9');\n",
       "          const dataTable =\n",
       "            await google.colab.kernel.invokeFunction('convertToInteractive',\n",
       "                                                     [key], {});\n",
       "          if (!dataTable) return;\n",
       "\n",
       "          const docLinkHtml = 'Like what you see? Visit the ' +\n",
       "            '<a target=\"_blank\" href=https://colab.research.google.com/notebooks/data_table.ipynb>data table notebook</a>'\n",
       "            + ' to learn more about interactive tables.';\n",
       "          element.innerHTML = '';\n",
       "          dataTable['output_type'] = 'display_data';\n",
       "          await google.colab.output.renderOutput(dataTable, element);\n",
       "          const docLink = document.createElement('div');\n",
       "          docLink.innerHTML = docLinkHtml;\n",
       "          element.appendChild(docLink);\n",
       "        }\n",
       "      </script>\n",
       "    </div>\n",
       "  </div>\n",
       "  "
      ],
      "text/plain": [
       "              Date     Price      Open  ... activity_in activity_out company_name\n",
       "1020  Dec 27, 2017     42.65     42.52  ...  459.012446   723.116596        APPLE\n",
       "1021  Dec 26, 2017     42.64      42.7  ...  512.988709   419.767008        APPLE\n",
       "1022  Dec 22, 2017     43.75     43.67  ...  892.087271   274.688995        APPLE\n",
       "1023  Dec 21, 2017     43.75     43.54  ...  714.290558   214.932556        APPLE\n",
       "1024  Dec 20, 2017     43.59     43.72  ...  517.921111   522.840917        APPLE\n",
       "1025  Dec 19, 2017     43.63     43.76  ...  341.587978    29.517790        APPLE\n",
       "1026  Dec 18, 2017      44.1     43.72  ...  195.319583    69.321476        APPLE\n",
       "1027  Dec 15, 2017     43.49     43.41  ...  653.176660    83.086196        APPLE\n",
       "0     Jan 14, 2022  2,789.61  2,739.97  ...  604.720961   750.648842       GOOGLE\n",
       "1     Jan 13, 2022  2,771.74  2,830.80  ...  737.024029   114.104153       GOOGLE\n",
       "2     Jan 12, 2022  2,828.61  2,823.00  ...  383.405551   290.800200       GOOGLE\n",
       "3     Jan 11, 2022  2,794.72  2,760.14  ...  140.756690   893.501867       GOOGLE\n",
       "4     Jan 10, 2022  2,773.39  2,701.56  ...  764.075383    57.522567       GOOGLE\n",
       "5     Jan 07, 2022  2,740.34  2,762.91  ...  564.190168    76.854707       GOOGLE\n",
       "6     Jan 06, 2022  2,754.95  2,739.97  ...  816.740499   179.469303       GOOGLE\n",
       "7     Jan 05, 2022  2,755.50  2,888.40  ...  171.406684   416.516972       GOOGLE\n",
       "8     Jan 04, 2022  2,887.99  2,907.92  ...  873.416187   944.770577       GOOGLE\n",
       "9     Jan 03, 2022  2,899.83  2,901.10  ...   78.137078   304.405119       GOOGLE\n",
       "10    Dec 31, 2021  2,897.04  2,921.00  ...   60.698088   430.352846       GOOGLE\n",
       "11    Dec 30, 2021  2,924.01  2,933.88  ...  260.198931   779.190101       GOOGLE\n",
       "\n",
       "[20 rows x 12 columns]"
      ]
     },
     "execution_count": 6,
     "metadata": {},
     "output_type": "execute_result"
    }
   ],
   "source": [
    "company_list = [Apple, Google,Tesla, Amazon]\n",
    "company_name = [\"APPLE\", \"GOOGLE\", \"Tesla\", \"AMAZON\"]\n",
    "for company, com_name in zip(company_list, company_name):\n",
    "    company[\"company_name\"] = com_name\n",
    "    \n",
    "df = pd.concat(company_list, axis=0)\n",
    "df.iloc[1020:1040]"
   ]
  },
  {
   "cell_type": "code",
   "execution_count": null,
   "metadata": {
    "colab": {
     "base_uri": "https://localhost:8080/",
     "height": 300
    },
    "id": "fNwJ9wzxbanV",
    "outputId": "24e6ab04-9c03-4a50-c3f4-7fe29971e2a7"
   },
   "outputs": [
    {
     "data": {
      "text/html": [
       "\n",
       "  <div id=\"df-1a4d19fb-e1d6-4334-92b7-c5385653dcf8\">\n",
       "    <div class=\"colab-df-container\">\n",
       "      <div>\n",
       "<style scoped>\n",
       "    .dataframe tbody tr th:only-of-type {\n",
       "        vertical-align: middle;\n",
       "    }\n",
       "\n",
       "    .dataframe tbody tr th {\n",
       "        vertical-align: top;\n",
       "    }\n",
       "\n",
       "    .dataframe thead th {\n",
       "        text-align: right;\n",
       "    }\n",
       "</style>\n",
       "<table border=\"1\" class=\"dataframe\">\n",
       "  <thead>\n",
       "    <tr style=\"text-align: right;\">\n",
       "      <th></th>\n",
       "      <th>coef</th>\n",
       "      <th>state</th>\n",
       "      <th>activity_in</th>\n",
       "      <th>activity_out</th>\n",
       "    </tr>\n",
       "  </thead>\n",
       "  <tbody>\n",
       "    <tr>\n",
       "      <th>count</th>\n",
       "      <td>4062.000000</td>\n",
       "      <td>4053.000000</td>\n",
       "      <td>4062.000000</td>\n",
       "      <td>4060.000000</td>\n",
       "    </tr>\n",
       "    <tr>\n",
       "      <th>mean</th>\n",
       "      <td>503.358856</td>\n",
       "      <td>4.514434</td>\n",
       "      <td>501.839869</td>\n",
       "      <td>489.804806</td>\n",
       "    </tr>\n",
       "    <tr>\n",
       "      <th>std</th>\n",
       "      <td>290.181596</td>\n",
       "      <td>2.882548</td>\n",
       "      <td>290.052297</td>\n",
       "      <td>286.883231</td>\n",
       "    </tr>\n",
       "    <tr>\n",
       "      <th>min</th>\n",
       "      <td>0.087841</td>\n",
       "      <td>0.000000</td>\n",
       "      <td>0.411954</td>\n",
       "      <td>0.873635</td>\n",
       "    </tr>\n",
       "    <tr>\n",
       "      <th>25%</th>\n",
       "      <td>250.239410</td>\n",
       "      <td>2.000000</td>\n",
       "      <td>249.957919</td>\n",
       "      <td>240.901252</td>\n",
       "    </tr>\n",
       "    <tr>\n",
       "      <th>50%</th>\n",
       "      <td>506.361730</td>\n",
       "      <td>4.000000</td>\n",
       "      <td>498.387664</td>\n",
       "      <td>485.673151</td>\n",
       "    </tr>\n",
       "    <tr>\n",
       "      <th>75%</th>\n",
       "      <td>752.831215</td>\n",
       "      <td>7.000000</td>\n",
       "      <td>750.810554</td>\n",
       "      <td>732.746588</td>\n",
       "    </tr>\n",
       "    <tr>\n",
       "      <th>max</th>\n",
       "      <td>999.865616</td>\n",
       "      <td>9.000000</td>\n",
       "      <td>999.915627</td>\n",
       "      <td>999.689931</td>\n",
       "    </tr>\n",
       "  </tbody>\n",
       "</table>\n",
       "</div>\n",
       "      <button class=\"colab-df-convert\" onclick=\"convertToInteractive('df-1a4d19fb-e1d6-4334-92b7-c5385653dcf8')\"\n",
       "              title=\"Convert this dataframe to an interactive table.\"\n",
       "              style=\"display:none;\">\n",
       "        \n",
       "  <svg xmlns=\"http://www.w3.org/2000/svg\" height=\"24px\"viewBox=\"0 0 24 24\"\n",
       "       width=\"24px\">\n",
       "    <path d=\"M0 0h24v24H0V0z\" fill=\"none\"/>\n",
       "    <path d=\"M18.56 5.44l.94 2.06.94-2.06 2.06-.94-2.06-.94-.94-2.06-.94 2.06-2.06.94zm-11 1L8.5 8.5l.94-2.06 2.06-.94-2.06-.94L8.5 2.5l-.94 2.06-2.06.94zm10 10l.94 2.06.94-2.06 2.06-.94-2.06-.94-.94-2.06-.94 2.06-2.06.94z\"/><path d=\"M17.41 7.96l-1.37-1.37c-.4-.4-.92-.59-1.43-.59-.52 0-1.04.2-1.43.59L10.3 9.45l-7.72 7.72c-.78.78-.78 2.05 0 2.83L4 21.41c.39.39.9.59 1.41.59.51 0 1.02-.2 1.41-.59l7.78-7.78 2.81-2.81c.8-.78.8-2.07 0-2.86zM5.41 20L4 18.59l7.72-7.72 1.47 1.35L5.41 20z\"/>\n",
       "  </svg>\n",
       "      </button>\n",
       "      \n",
       "  <style>\n",
       "    .colab-df-container {\n",
       "      display:flex;\n",
       "      flex-wrap:wrap;\n",
       "      gap: 12px;\n",
       "    }\n",
       "\n",
       "    .colab-df-convert {\n",
       "      background-color: #E8F0FE;\n",
       "      border: none;\n",
       "      border-radius: 50%;\n",
       "      cursor: pointer;\n",
       "      display: none;\n",
       "      fill: #1967D2;\n",
       "      height: 32px;\n",
       "      padding: 0 0 0 0;\n",
       "      width: 32px;\n",
       "    }\n",
       "\n",
       "    .colab-df-convert:hover {\n",
       "      background-color: #E2EBFA;\n",
       "      box-shadow: 0px 1px 2px rgba(60, 64, 67, 0.3), 0px 1px 3px 1px rgba(60, 64, 67, 0.15);\n",
       "      fill: #174EA6;\n",
       "    }\n",
       "\n",
       "    [theme=dark] .colab-df-convert {\n",
       "      background-color: #3B4455;\n",
       "      fill: #D2E3FC;\n",
       "    }\n",
       "\n",
       "    [theme=dark] .colab-df-convert:hover {\n",
       "      background-color: #434B5C;\n",
       "      box-shadow: 0px 1px 3px 1px rgba(0, 0, 0, 0.15);\n",
       "      filter: drop-shadow(0px 1px 2px rgba(0, 0, 0, 0.3));\n",
       "      fill: #FFFFFF;\n",
       "    }\n",
       "  </style>\n",
       "\n",
       "      <script>\n",
       "        const buttonEl =\n",
       "          document.querySelector('#df-1a4d19fb-e1d6-4334-92b7-c5385653dcf8 button.colab-df-convert');\n",
       "        buttonEl.style.display =\n",
       "          google.colab.kernel.accessAllowed ? 'block' : 'none';\n",
       "\n",
       "        async function convertToInteractive(key) {\n",
       "          const element = document.querySelector('#df-1a4d19fb-e1d6-4334-92b7-c5385653dcf8');\n",
       "          const dataTable =\n",
       "            await google.colab.kernel.invokeFunction('convertToInteractive',\n",
       "                                                     [key], {});\n",
       "          if (!dataTable) return;\n",
       "\n",
       "          const docLinkHtml = 'Like what you see? Visit the ' +\n",
       "            '<a target=\"_blank\" href=https://colab.research.google.com/notebooks/data_table.ipynb>data table notebook</a>'\n",
       "            + ' to learn more about interactive tables.';\n",
       "          element.innerHTML = '';\n",
       "          dataTable['output_type'] = 'display_data';\n",
       "          await google.colab.output.renderOutput(dataTable, element);\n",
       "          const docLink = document.createElement('div');\n",
       "          docLink.innerHTML = docLinkHtml;\n",
       "          element.appendChild(docLink);\n",
       "        }\n",
       "      </script>\n",
       "    </div>\n",
       "  </div>\n",
       "  "
      ],
      "text/plain": [
       "              coef        state  activity_in  activity_out\n",
       "count  4062.000000  4053.000000  4062.000000   4060.000000\n",
       "mean    503.358856     4.514434   501.839869    489.804806\n",
       "std     290.181596     2.882548   290.052297    286.883231\n",
       "min       0.087841     0.000000     0.411954      0.873635\n",
       "25%     250.239410     2.000000   249.957919    240.901252\n",
       "50%     506.361730     4.000000   498.387664    485.673151\n",
       "75%     752.831215     7.000000   750.810554    732.746588\n",
       "max     999.865616     9.000000   999.915627    999.689931"
      ]
     },
     "execution_count": 7,
     "metadata": {},
     "output_type": "execute_result"
    }
   ],
   "source": []
  },
  {
   "cell_type": "code",
   "execution_count": null,
   "metadata": {
    "colab": {
     "base_uri": "https://localhost:8080/"
    },
    "id": "XXnsqYSGKc1U",
    "outputId": "f7de753d-33ef-41a7-d8c8-62a453c016d2"
   },
   "outputs": [
    {
     "data": {
      "text/plain": [
       "Index(['Date', 'Price', 'Open', 'High', 'Low', 'Vol.', 'Change %', 'coef',\n",
       "       'state', 'activity_in', 'activity_out', 'company_name'],\n",
       "      dtype='object')"
      ]
     },
     "execution_count": 10,
     "metadata": {},
     "output_type": "execute_result"
    }
   ],
   "source": [
    "\n",
    "Apple.columns\n",
    "\n"
   ]
  },
  {
   "cell_type": "code",
   "execution_count": null,
   "metadata": {
    "colab": {
     "base_uri": "https://localhost:8080/"
    },
    "id": "sRd292lvPtLU",
    "outputId": "adf7e16a-d84b-4254-c5fa-07da3066b295"
   },
   "outputs": [
    {
     "data": {
      "text/plain": [
       "[              Date   Price    Open  ...  activity_in  activity_out company_name\n",
       " 0     Jan 14, 2022  173.07  171.36  ...   544.567398    290.106619        APPLE\n",
       " 1     Jan 13, 2022  172.19  175.78  ...   958.830431    116.604922        APPLE\n",
       " 2     Jan 12, 2022  175.53  176.12  ...   651.171829    892.616525        APPLE\n",
       " 3     Jan 11, 2022  175.08  172.32  ...   212.135502    539.260305        APPLE\n",
       " 4     Jan 10, 2022  172.19  169.08  ...   139.144297    399.070275        APPLE\n",
       " ...            ...     ...     ...  ...          ...           ...          ...\n",
       " 1023  Dec 21, 2017   43.75   43.54  ...   714.290558    214.932556        APPLE\n",
       " 1024  Dec 20, 2017   43.59   43.72  ...   517.921111    522.840917        APPLE\n",
       " 1025  Dec 19, 2017   43.63   43.76  ...   341.587978     29.517790        APPLE\n",
       " 1026  Dec 18, 2017   44.10   43.72  ...   195.319583     69.321476        APPLE\n",
       " 1027  Dec 15, 2017   43.49   43.41  ...   653.176660     83.086196        APPLE\n",
       " \n",
       " [1028 rows x 12 columns],\n",
       "               Date     Price      Open  ... activity_in activity_out company_name\n",
       " 0     Jan 14, 2022  2,789.61  2,739.97  ...  604.720961   750.648842       GOOGLE\n",
       " 1     Jan 13, 2022  2,771.74  2,830.80  ...  737.024029   114.104153       GOOGLE\n",
       " 2     Jan 12, 2022  2,828.61  2,823.00  ...  383.405551   290.800200       GOOGLE\n",
       " 3     Jan 11, 2022  2,794.72  2,760.14  ...  140.756690   893.501867       GOOGLE\n",
       " 4     Jan 10, 2022  2,773.39  2,701.56  ...  764.075383    57.522567       GOOGLE\n",
       " ...            ...       ...       ...  ...         ...          ...          ...\n",
       " 1023  Dec 21, 2017  1,070.85  1,075.39  ...  464.937235   986.012813       GOOGLE\n",
       " 1024  Dec 20, 2017  1,073.56  1,080.92  ...  980.454503          NaN       GOOGLE\n",
       " 1025  Dec 19, 2017  1,079.78  1,083.02  ...  725.135930   890.134291       GOOGLE\n",
       " 1026  Dec 18, 2017  1,085.09  1,076.45  ...  367.860996   231.044584       GOOGLE\n",
       " 1027  Dec 15, 2017  1,072.00  1,063.78  ...  455.208636   435.461150       GOOGLE\n",
       " \n",
       " [1028 rows x 12 columns],\n",
       "               Date     Price      Open  ... activity_in activity_out company_name\n",
       " 0     Jan 14, 2022  1,049.61  1,019.05  ...  311.268936   327.787013        Tesla\n",
       " 1     Jan 13, 2022  1,031.56  1,109.06  ...  353.972675   261.808995        Tesla\n",
       " 2     Jan 12, 2022  1,106.22  1,078.85  ...  911.561413   873.415390        Tesla\n",
       " 3     Jan 11, 2022  1,064.40  1,053.67  ...  381.288433   896.772978        Tesla\n",
       " 4     Jan 10, 2022  1,058.12  1,000.00  ...         NaN   639.250746        Tesla\n",
       " ...            ...       ...       ...  ...         ...          ...          ...\n",
       " 1023  Dec 21, 2017     66.33     65.92  ...   43.616579   844.440277        Tesla\n",
       " 1024  Dec 20, 2017     65.80     66.54  ...  471.552180   255.317774        Tesla\n",
       " 1025  Dec 19, 2017     66.22     68.05  ...   79.968636   896.859537        Tesla\n",
       " 1026  Dec 18, 2017     67.77     68.98  ...  664.851720    26.483956        Tesla\n",
       " 1027  Dec 15, 2017     68.69     68.41  ...  862.808416   471.798669        Tesla\n",
       " \n",
       " [1028 rows x 12 columns],\n",
       "               Date     Price      Open  ... activity_in activity_out company_name\n",
       " 0     Jan 14, 2022  3,242.76  3,203.00  ...   14.663094   957.494727       AMAZON\n",
       " 1     Jan 13, 2022  3,224.28  3,305.01  ...   86.335949   395.389005       AMAZON\n",
       " 2     Jan 12, 2022  3,304.14  3,331.50  ...  644.957798   311.074950       AMAZON\n",
       " 3     Jan 11, 2022  3,307.24  3,230.00  ...   75.218909   328.728443       AMAZON\n",
       " 4     Jan 10, 2022  3,229.72  3,211.71  ...  930.141387   462.268195       AMAZON\n",
       " ...            ...       ...       ...  ...         ...          ...          ...\n",
       " 1023  Dec 21, 2017  1,174.76  1,175.90  ...   26.613060   185.506545       AMAZON\n",
       " 1024  Dec 20, 2017  1,177.62  1,190.50  ...  735.811136    50.931157       AMAZON\n",
       " 1025  Dec 19, 2017  1,187.38  1,189.15  ...  288.383639    49.074890       AMAZON\n",
       " 1026  Dec 18, 2017  1,190.58  1,187.37  ...  321.227582   198.500108       AMAZON\n",
       " 1027  Dec 15, 2017  1,179.14  1,179.03  ...  655.252614   149.109897       AMAZON\n",
       " \n",
       " [1028 rows x 12 columns]]"
      ]
     },
     "execution_count": 8,
     "metadata": {},
     "output_type": "execute_result"
    }
   ],
   "source": [
    "\n",
    "company_list"
   ]
  },
  {
   "cell_type": "markdown",
   "metadata": {
    "id": "0loL1nWoWbfq"
   },
   "source": [
    "**Regler le problème de virgule sur price**"
   ]
  },
  {
   "cell_type": "code",
   "execution_count": null,
   "metadata": {
    "id": "VTiF2An-NBtf"
   },
   "outputs": [],
   "source": [
    "for i, company in enumerate([Google,Tesla, Amazon], 1):\n",
    "    company['Price']=company['Price'].str.replace(',', '').astype(float)"
   ]
  },
  {
   "cell_type": "markdown",
   "metadata": {
    "id": "DJBDQBm9idp4"
   },
   "source": [
    "**Regeler le problèes des dates str to datatime**"
   ]
  },
  {
   "cell_type": "code",
   "execution_count": null,
   "metadata": {
    "id": "0NQL_uK0Wlsw"
   },
   "outputs": [],
   "source": [
    "for i, company in enumerate([Google,Tesla, Amazon], 1):\n",
    "    company['Date']=pd.to_datetime(company['Date'])\n",
    "\n",
    "\n"
   ]
  },
  {
   "cell_type": "markdown",
   "metadata": {
    "id": "Mxi_RXA3i18v"
   },
   "source": [
    "**historical view of the  price \"APPLE\", \"GOOGLE\", \"Tesla\", \"AMAZON\" 2018 -2022**"
   ]
  },
  {
   "cell_type": "code",
   "execution_count": null,
   "metadata": {
    "colab": {
     "base_uri": "https://localhost:8080/",
     "height": 1000
    },
    "id": "ija6vKBHUKfC",
    "outputId": "e30d00b0-273d-459c-8084-6c3ce9d3b34a"
   },
   "outputs": [
    {
     "data": {
      "image/png": "[encoded data removed]",
      "text/plain": [
       "<Figure size 2160x4320 with 4 Axes>"
      ]
     },
     "metadata": {},
     "output_type": "display_data"
    }
   ],
   "source": [
    "tech_list = [\"APPLE\", \"GOOGLE\", \"Tesla\", \"AMAZON\"]\n",
    "plt.figure(figsize=(30, 60))\n",
    "plt.subplots_adjust(top=1.5, bottom=1.2)\n",
    "\n",
    "for i, company in enumerate(company_list, 1):\n",
    "    company['Date']=pd.to_datetime(company['Date'])\n",
    "    plt.subplot(2, 2, i)\n",
    "    plt.plot(company['Date'],company['Price'])\n",
    "    plt.ylabel('Price',size=20)\n",
    "    plt.xlabel('Date',size=20)\n",
    "    plt.title(f\" Price of {tech_list[i - 1]}\",size=25)"
   ]
  },
  {
   "cell_type": "markdown",
   "metadata": {
    "id": "ccUC96cCqLIQ"
   },
   "source": [
    "**Data preprocessing for Appl**"
   ]
  },
  {
   "cell_type": "markdown",
   "metadata": {
    "id": "Wukv12zr_eI2"
   },
   "source": [
    "**Appel**"
   ]
  },
  {
   "cell_type": "code",
   "execution_count": null,
   "metadata": {
    "colab": {
     "base_uri": "https://localhost:8080/",
     "height": 237
    },
    "id": "-1a79Rb_jOBr",
    "outputId": "56925c0d-7726-44c9-f68a-c6f53f0d2237"
   },
   "outputs": [
    {
     "data": {
      "text/html": [
       "\n",
       "  <div id=\"df-b66f7b12-4d44-4537-8654-3fb5c50455d1\">\n",
       "    <div class=\"colab-df-container\">\n",
       "      <div>\n",
       "<style scoped>\n",
       "    .dataframe tbody tr th:only-of-type {\n",
       "        vertical-align: middle;\n",
       "    }\n",
       "\n",
       "    .dataframe tbody tr th {\n",
       "        vertical-align: top;\n",
       "    }\n",
       "\n",
       "    .dataframe thead th {\n",
       "        text-align: right;\n",
       "    }\n",
       "</style>\n",
       "<table border=\"1\" class=\"dataframe\">\n",
       "  <thead>\n",
       "    <tr style=\"text-align: right;\">\n",
       "      <th></th>\n",
       "      <th>Date</th>\n",
       "      <th>Price</th>\n",
       "      <th>Open</th>\n",
       "      <th>High</th>\n",
       "      <th>Low</th>\n",
       "      <th>Vol.</th>\n",
       "      <th>Change %</th>\n",
       "      <th>coef</th>\n",
       "      <th>state</th>\n",
       "      <th>activity_in</th>\n",
       "      <th>activity_out</th>\n",
       "      <th>company_name</th>\n",
       "    </tr>\n",
       "  </thead>\n",
       "  <tbody>\n",
       "    <tr>\n",
       "      <th>0</th>\n",
       "      <td>2022-01-14</td>\n",
       "      <td>173.07</td>\n",
       "      <td>171.36</td>\n",
       "      <td>173.75</td>\n",
       "      <td>171.10</td>\n",
       "      <td>78.73M</td>\n",
       "      <td>0.51%</td>\n",
       "      <td>497.296390</td>\n",
       "      <td>6.0</td>\n",
       "      <td>544.567398</td>\n",
       "      <td>290.106619</td>\n",
       "      <td>APPLE</td>\n",
       "    </tr>\n",
       "    <tr>\n",
       "      <th>1</th>\n",
       "      <td>2022-01-13</td>\n",
       "      <td>172.19</td>\n",
       "      <td>175.78</td>\n",
       "      <td>176.62</td>\n",
       "      <td>171.79</td>\n",
       "      <td>82.27M</td>\n",
       "      <td>-1.90%</td>\n",
       "      <td>889.874180</td>\n",
       "      <td>1.0</td>\n",
       "      <td>958.830431</td>\n",
       "      <td>116.604922</td>\n",
       "      <td>APPLE</td>\n",
       "    </tr>\n",
       "    <tr>\n",
       "      <th>2</th>\n",
       "      <td>2022-01-12</td>\n",
       "      <td>175.53</td>\n",
       "      <td>176.12</td>\n",
       "      <td>NaN</td>\n",
       "      <td>174.82</td>\n",
       "      <td>72.77M</td>\n",
       "      <td>0.26%</td>\n",
       "      <td>33.808154</td>\n",
       "      <td>1.0</td>\n",
       "      <td>651.171829</td>\n",
       "      <td>892.616525</td>\n",
       "      <td>APPLE</td>\n",
       "    </tr>\n",
       "    <tr>\n",
       "      <th>3</th>\n",
       "      <td>2022-01-11</td>\n",
       "      <td>175.08</td>\n",
       "      <td>172.32</td>\n",
       "      <td>175.18</td>\n",
       "      <td>170.82</td>\n",
       "      <td>75.94M</td>\n",
       "      <td>1.68%</td>\n",
       "      <td>76.642932</td>\n",
       "      <td>2.0</td>\n",
       "      <td>212.135502</td>\n",
       "      <td>539.260305</td>\n",
       "      <td>APPLE</td>\n",
       "    </tr>\n",
       "    <tr>\n",
       "      <th>4</th>\n",
       "      <td>2022-01-10</td>\n",
       "      <td>172.19</td>\n",
       "      <td>169.08</td>\n",
       "      <td>172.50</td>\n",
       "      <td>168.17</td>\n",
       "      <td>103.82M</td>\n",
       "      <td>0.01%</td>\n",
       "      <td>802.343154</td>\n",
       "      <td>9.0</td>\n",
       "      <td>139.144297</td>\n",
       "      <td>399.070275</td>\n",
       "      <td>APPLE</td>\n",
       "    </tr>\n",
       "    <tr>\n",
       "      <th>5</th>\n",
       "      <td>2022-01-07</td>\n",
       "      <td>172.17</td>\n",
       "      <td>172.89</td>\n",
       "      <td>174.14</td>\n",
       "      <td>171.03</td>\n",
       "      <td>86.71M</td>\n",
       "      <td>0.10%</td>\n",
       "      <td>419.406528</td>\n",
       "      <td>0.0</td>\n",
       "      <td>482.941597</td>\n",
       "      <td>46.037655</td>\n",
       "      <td>APPLE</td>\n",
       "    </tr>\n",
       "  </tbody>\n",
       "</table>\n",
       "</div>\n",
       "      <button class=\"colab-df-convert\" onclick=\"convertToInteractive('df-b66f7b12-4d44-4537-8654-3fb5c50455d1')\"\n",
       "              title=\"Convert this dataframe to an interactive table.\"\n",
       "              style=\"display:none;\">\n",
       "        \n",
       "  <svg xmlns=\"http://www.w3.org/2000/svg\" height=\"24px\"viewBox=\"0 0 24 24\"\n",
       "       width=\"24px\">\n",
       "    <path d=\"M0 0h24v24H0V0z\" fill=\"none\"/>\n",
       "    <path d=\"M18.56 5.44l.94 2.06.94-2.06 2.06-.94-2.06-.94-.94-2.06-.94 2.06-2.06.94zm-11 1L8.5 8.5l.94-2.06 2.06-.94-2.06-.94L8.5 2.5l-.94 2.06-2.06.94zm10 10l.94 2.06.94-2.06 2.06-.94-2.06-.94-.94-2.06-.94 2.06-2.06.94z\"/><path d=\"M17.41 7.96l-1.37-1.37c-.4-.4-.92-.59-1.43-.59-.52 0-1.04.2-1.43.59L10.3 9.45l-7.72 7.72c-.78.78-.78 2.05 0 2.83L4 21.41c.39.39.9.59 1.41.59.51 0 1.02-.2 1.41-.59l7.78-7.78 2.81-2.81c.8-.78.8-2.07 0-2.86zM5.41 20L4 18.59l7.72-7.72 1.47 1.35L5.41 20z\"/>\n",
       "  </svg>\n",
       "      </button>\n",
       "      \n",
       "  <style>\n",
       "    .colab-df-container {\n",
       "      display:flex;\n",
       "      flex-wrap:wrap;\n",
       "      gap: 12px;\n",
       "    }\n",
       "\n",
       "    .colab-df-convert {\n",
       "      background-color: #E8F0FE;\n",
       "      border: none;\n",
       "      border-radius: 50%;\n",
       "      cursor: pointer;\n",
       "      display: none;\n",
       "      fill: #1967D2;\n",
       "      height: 32px;\n",
       "      padding: 0 0 0 0;\n",
       "      width: 32px;\n",
       "    }\n",
       "\n",
       "    .colab-df-convert:hover {\n",
       "      background-color: #E2EBFA;\n",
       "      box-shadow: 0px 1px 2px rgba(60, 64, 67, 0.3), 0px 1px 3px 1px rgba(60, 64, 67, 0.15);\n",
       "      fill: #174EA6;\n",
       "    }\n",
       "\n",
       "    [theme=dark] .colab-df-convert {\n",
       "      background-color: #3B4455;\n",
       "      fill: #D2E3FC;\n",
       "    }\n",
       "\n",
       "    [theme=dark] .colab-df-convert:hover {\n",
       "      background-color: #434B5C;\n",
       "      box-shadow: 0px 1px 3px 1px rgba(0, 0, 0, 0.15);\n",
       "      filter: drop-shadow(0px 1px 2px rgba(0, 0, 0, 0.3));\n",
       "      fill: #FFFFFF;\n",
       "    }\n",
       "  </style>\n",
       "\n",
       "      <script>\n",
       "        const buttonEl =\n",
       "          document.querySelector('#df-b66f7b12-4d44-4537-8654-3fb5c50455d1 button.colab-df-convert');\n",
       "        buttonEl.style.display =\n",
       "          google.colab.kernel.accessAllowed ? 'block' : 'none';\n",
       "\n",
       "        async function convertToInteractive(key) {\n",
       "          const element = document.querySelector('#df-b66f7b12-4d44-4537-8654-3fb5c50455d1');\n",
       "          const dataTable =\n",
       "            await google.colab.kernel.invokeFunction('convertToInteractive',\n",
       "                                                     [key], {});\n",
       "          if (!dataTable) return;\n",
       "\n",
       "          const docLinkHtml = 'Like what you see? Visit the ' +\n",
       "            '<a target=\"_blank\" href=https://colab.research.google.com/notebooks/data_table.ipynb>data table notebook</a>'\n",
       "            + ' to learn more about interactive tables.';\n",
       "          element.innerHTML = '';\n",
       "          dataTable['output_type'] = 'display_data';\n",
       "          await google.colab.output.renderOutput(dataTable, element);\n",
       "          const docLink = document.createElement('div');\n",
       "          docLink.innerHTML = docLinkHtml;\n",
       "          element.appendChild(docLink);\n",
       "        }\n",
       "      </script>\n",
       "    </div>\n",
       "  </div>\n",
       "  "
      ],
      "text/plain": [
       "        Date   Price    Open  ...  activity_in  activity_out company_name\n",
       "0 2022-01-14  173.07  171.36  ...   544.567398    290.106619        APPLE\n",
       "1 2022-01-13  172.19  175.78  ...   958.830431    116.604922        APPLE\n",
       "2 2022-01-12  175.53  176.12  ...   651.171829    892.616525        APPLE\n",
       "3 2022-01-11  175.08  172.32  ...   212.135502    539.260305        APPLE\n",
       "4 2022-01-10  172.19  169.08  ...   139.144297    399.070275        APPLE\n",
       "5 2022-01-07  172.17  172.89  ...   482.941597     46.037655        APPLE\n",
       "\n",
       "[6 rows x 12 columns]"
      ]
     },
     "execution_count": 12,
     "metadata": {},
     "output_type": "execute_result"
    }
   ],
   "source": [
    "Apple.head(6)"
   ]
  },
  {
   "cell_type": "code",
   "execution_count": null,
   "metadata": {
    "colab": {
     "background_save": true,
     "base_uri": "https://localhost:8080/",
     "height": 300
    },
    "id": "LQreT4b1blII",
    "outputId": "70e78376-2bb4-4e61-caa2-365e1692007b"
   },
   "outputs": [
    {
     "data": {
      "text/html": [
       "\n",
       "  <div id=\"df-3fa83d38-e979-439f-a579-833f74d29f80\">\n",
       "    <div class=\"colab-df-container\">\n",
       "      <div>\n",
       "<style scoped>\n",
       "    .dataframe tbody tr th:only-of-type {\n",
       "        vertical-align: middle;\n",
       "    }\n",
       "\n",
       "    .dataframe tbody tr th {\n",
       "        vertical-align: top;\n",
       "    }\n",
       "\n",
       "    .dataframe thead th {\n",
       "        text-align: right;\n",
       "    }\n",
       "</style>\n",
       "<table border=\"1\" class=\"dataframe\">\n",
       "  <thead>\n",
       "    <tr style=\"text-align: right;\">\n",
       "      <th></th>\n",
       "      <th>Price</th>\n",
       "      <th>Open</th>\n",
       "      <th>High</th>\n",
       "      <th>Low</th>\n",
       "      <th>Vol.</th>\n",
       "      <th>Change %</th>\n",
       "      <th>coef</th>\n",
       "      <th>state</th>\n",
       "      <th>activity_in</th>\n",
       "      <th>activity_out</th>\n",
       "    </tr>\n",
       "  </thead>\n",
       "  <tbody>\n",
       "    <tr>\n",
       "      <th>count</th>\n",
       "      <td>1.018000e+03</td>\n",
       "      <td>1.018000e+03</td>\n",
       "      <td>1.018000e+03</td>\n",
       "      <td>1.018000e+03</td>\n",
       "      <td>1.018000e+03</td>\n",
       "      <td>1.018000e+03</td>\n",
       "      <td>1.018000e+03</td>\n",
       "      <td>1.018000e+03</td>\n",
       "      <td>1.018000e+03</td>\n",
       "      <td>1.018000e+03</td>\n",
       "    </tr>\n",
       "    <tr>\n",
       "      <th>mean</th>\n",
       "      <td>-3.296861e-16</td>\n",
       "      <td>-5.237025e-16</td>\n",
       "      <td>5.714704e-16</td>\n",
       "      <td>5.276286e-16</td>\n",
       "      <td>4.242404e-17</td>\n",
       "      <td>-2.791916e-17</td>\n",
       "      <td>-2.440746e-16</td>\n",
       "      <td>1.716592e-16</td>\n",
       "      <td>7.895889e-17</td>\n",
       "      <td>-4.471429e-17</td>\n",
       "    </tr>\n",
       "    <tr>\n",
       "      <th>std</th>\n",
       "      <td>1.000492e+00</td>\n",
       "      <td>1.000492e+00</td>\n",
       "      <td>1.000492e+00</td>\n",
       "      <td>1.000492e+00</td>\n",
       "      <td>1.000492e+00</td>\n",
       "      <td>1.000492e+00</td>\n",
       "      <td>1.000492e+00</td>\n",
       "      <td>1.000492e+00</td>\n",
       "      <td>1.000492e+00</td>\n",
       "      <td>1.000492e+00</td>\n",
       "    </tr>\n",
       "    <tr>\n",
       "      <th>min</th>\n",
       "      <td>-1.192155e+00</td>\n",
       "      <td>-1.180961e+00</td>\n",
       "      <td>-1.179799e+00</td>\n",
       "      <td>-1.186960e+00</td>\n",
       "      <td>-1.449432e+00</td>\n",
       "      <td>-6.348313e+00</td>\n",
       "      <td>-1.723706e+00</td>\n",
       "      <td>-1.579824e+00</td>\n",
       "      <td>-1.759206e+00</td>\n",
       "      <td>-1.682286e+00</td>\n",
       "    </tr>\n",
       "    <tr>\n",
       "      <th>25%</th>\n",
       "      <td>-8.861877e-01</td>\n",
       "      <td>-8.891796e-01</td>\n",
       "      <td>-8.892234e-01</td>\n",
       "      <td>-8.832851e-01</td>\n",
       "      <td>-6.845656e-01</td>\n",
       "      <td>-4.511730e-01</td>\n",
       "      <td>-8.670066e-01</td>\n",
       "      <td>-8.876623e-01</td>\n",
       "      <td>-8.717921e-01</td>\n",
       "      <td>-8.864436e-01</td>\n",
       "    </tr>\n",
       "    <tr>\n",
       "      <th>50%</th>\n",
       "      <td>-4.235996e-01</td>\n",
       "      <td>-4.216221e-01</td>\n",
       "      <td>-4.148143e-01</td>\n",
       "      <td>-4.140933e-01</td>\n",
       "      <td>-2.419686e-01</td>\n",
       "      <td>6.833971e-04</td>\n",
       "      <td>4.410083e-02</td>\n",
       "      <td>1.505798e-01</td>\n",
       "      <td>9.999420e-03</td>\n",
       "      <td>7.155281e-03</td>\n",
       "    </tr>\n",
       "    <tr>\n",
       "      <th>75%</th>\n",
       "      <td>9.757799e-01</td>\n",
       "      <td>9.677543e-01</td>\n",
       "      <td>9.631505e-01</td>\n",
       "      <td>9.537160e-01</td>\n",
       "      <td>3.903503e-01</td>\n",
       "      <td>5.097341e-01</td>\n",
       "      <td>8.380862e-01</td>\n",
       "      <td>8.427413e-01</td>\n",
       "      <td>7.869754e-01</td>\n",
       "      <td>8.501222e-01</td>\n",
       "    </tr>\n",
       "    <tr>\n",
       "      <th>max</th>\n",
       "      <td>2.389220e+00</td>\n",
       "      <td>2.396531e+00</td>\n",
       "      <td>2.366409e+00</td>\n",
       "      <td>2.376987e+00</td>\n",
       "      <td>5.292044e+00</td>\n",
       "      <td>5.767895e+00</td>\n",
       "      <td>1.688493e+00</td>\n",
       "      <td>1.534903e+00</td>\n",
       "      <td>1.702925e+00</td>\n",
       "      <td>1.735852e+00</td>\n",
       "    </tr>\n",
       "  </tbody>\n",
       "</table>\n",
       "</div>\n",
       "      <button class=\"colab-df-convert\" onclick=\"convertToInteractive('df-3fa83d38-e979-439f-a579-833f74d29f80')\"\n",
       "              title=\"Convert this dataframe to an interactive table.\"\n",
       "              style=\"display:none;\">\n",
       "        \n",
       "  <svg xmlns=\"http://www.w3.org/2000/svg\" height=\"24px\"viewBox=\"0 0 24 24\"\n",
       "       width=\"24px\">\n",
       "    <path d=\"M0 0h24v24H0V0z\" fill=\"none\"/>\n",
       "    <path d=\"M18.56 5.44l.94 2.06.94-2.06 2.06-.94-2.06-.94-.94-2.06-.94 2.06-2.06.94zm-11 1L8.5 8.5l.94-2.06 2.06-.94-2.06-.94L8.5 2.5l-.94 2.06-2.06.94zm10 10l.94 2.06.94-2.06 2.06-.94-2.06-.94-.94-2.06-.94 2.06-2.06.94z\"/><path d=\"M17.41 7.96l-1.37-1.37c-.4-.4-.92-.59-1.43-.59-.52 0-1.04.2-1.43.59L10.3 9.45l-7.72 7.72c-.78.78-.78 2.05 0 2.83L4 21.41c.39.39.9.59 1.41.59.51 0 1.02-.2 1.41-.59l7.78-7.78 2.81-2.81c.8-.78.8-2.07 0-2.86zM5.41 20L4 18.59l7.72-7.72 1.47 1.35L5.41 20z\"/>\n",
       "  </svg>\n",
       "      </button>\n",
       "      \n",
       "  <style>\n",
       "    .colab-df-container {\n",
       "      display:flex;\n",
       "      flex-wrap:wrap;\n",
       "      gap: 12px;\n",
       "    }\n",
       "\n",
       "    .colab-df-convert {\n",
       "      background-color: #E8F0FE;\n",
       "      border: none;\n",
       "      border-radius: 50%;\n",
       "      cursor: pointer;\n",
       "      display: none;\n",
       "      fill: #1967D2;\n",
       "      height: 32px;\n",
       "      padding: 0 0 0 0;\n",
       "      width: 32px;\n",
       "    }\n",
       "\n",
       "    .colab-df-convert:hover {\n",
       "      background-color: #E2EBFA;\n",
       "      box-shadow: 0px 1px 2px rgba(60, 64, 67, 0.3), 0px 1px 3px 1px rgba(60, 64, 67, 0.15);\n",
       "      fill: #174EA6;\n",
       "    }\n",
       "\n",
       "    [theme=dark] .colab-df-convert {\n",
       "      background-color: #3B4455;\n",
       "      fill: #D2E3FC;\n",
       "    }\n",
       "\n",
       "    [theme=dark] .colab-df-convert:hover {\n",
       "      background-color: #434B5C;\n",
       "      box-shadow: 0px 1px 3px 1px rgba(0, 0, 0, 0.15);\n",
       "      filter: drop-shadow(0px 1px 2px rgba(0, 0, 0, 0.3));\n",
       "      fill: #FFFFFF;\n",
       "    }\n",
       "  </style>\n",
       "\n",
       "      <script>\n",
       "        const buttonEl =\n",
       "          document.querySelector('#df-3fa83d38-e979-439f-a579-833f74d29f80 button.colab-df-convert');\n",
       "        buttonEl.style.display =\n",
       "          google.colab.kernel.accessAllowed ? 'block' : 'none';\n",
       "\n",
       "        async function convertToInteractive(key) {\n",
       "          const element = document.querySelector('#df-3fa83d38-e979-439f-a579-833f74d29f80');\n",
       "          const dataTable =\n",
       "            await google.colab.kernel.invokeFunction('convertToInteractive',\n",
       "                                                     [key], {});\n",
       "          if (!dataTable) return;\n",
       "\n",
       "          const docLinkHtml = 'Like what you see? Visit the ' +\n",
       "            '<a target=\"_blank\" href=https://colab.research.google.com/notebooks/data_table.ipynb>data table notebook</a>'\n",
       "            + ' to learn more about interactive tables.';\n",
       "          element.innerHTML = '';\n",
       "          dataTable['output_type'] = 'display_data';\n",
       "          await google.colab.output.renderOutput(dataTable, element);\n",
       "          const docLink = document.createElement('div');\n",
       "          docLink.innerHTML = docLinkHtml;\n",
       "          element.appendChild(docLink);\n",
       "        }\n",
       "      </script>\n",
       "    </div>\n",
       "  </div>\n",
       "  "
      ],
      "text/plain": [
       "              Price          Open  ...   activity_in  activity_out\n",
       "count  1.018000e+03  1.018000e+03  ...  1.018000e+03  1.018000e+03\n",
       "mean  -3.296861e-16 -5.237025e-16  ...  7.895889e-17 -4.471429e-17\n",
       "std    1.000492e+00  1.000492e+00  ...  1.000492e+00  1.000492e+00\n",
       "min   -1.192155e+00 -1.180961e+00  ... -1.759206e+00 -1.682286e+00\n",
       "25%   -8.861877e-01 -8.891796e-01  ... -8.717921e-01 -8.864436e-01\n",
       "50%   -4.235996e-01 -4.216221e-01  ...  9.999420e-03  7.155281e-03\n",
       "75%    9.757799e-01  9.677543e-01  ...  7.869754e-01  8.501222e-01\n",
       "max    2.389220e+00  2.396531e+00  ...  1.702925e+00  1.735852e+00\n",
       "\n",
       "[8 rows x 10 columns]"
      ]
     },
     "execution_count": null,
     "metadata": {},
     "output_type": "execute_result"
    }
   ],
   "source": [
    "Apple.describe()"
   ]
  },
  {
   "cell_type": "code",
   "execution_count": null,
   "metadata": {
    "colab": {
     "base_uri": "https://localhost:8080/"
    },
    "id": "5CGrw9Quqk1s",
    "outputId": "c77f98c3-89c4-437c-bd56-d3ca46b5d8a0"
   },
   "outputs": [
    {
     "data": {
      "text/plain": [
       "0        78.73M\n",
       "1        82.27M\n",
       "2        72.77M\n",
       "3        75.94M\n",
       "4       103.82M\n",
       "         ...   \n",
       "1023     83.80M\n",
       "1024     93.90M\n",
       "1025    109.75M\n",
       "1026    117.68M\n",
       "1027    160.68M\n",
       "Name: Vol., Length: 1028, dtype: object"
      ]
     },
     "execution_count": 9,
     "metadata": {},
     "output_type": "execute_result"
    }
   ],
   "source": [
    " Apple['Vol.']"
   ]
  },
  {
   "cell_type": "markdown",
   "metadata": {
    "id": "QSWl6XCwqZHC"
   },
   "source": [
    "**Supprimer   \"M' du colonnes \"VOl'**"
   ]
  },
  {
   "cell_type": "code",
   "execution_count": null,
   "metadata": {
    "colab": {
     "base_uri": "https://localhost:8080/"
    },
    "id": "472dKnAjoYzJ",
    "outputId": "b7d3b007-a13b-44de-932a-7927173d967b"
   },
   "outputs": [
    {
     "data": {
      "text/plain": [
       "0        78.73\n",
       "1        82.27\n",
       "2        72.77\n",
       "3        75.94\n",
       "4       103.82\n",
       "         ...  \n",
       "1023     83.80\n",
       "1024     93.90\n",
       "1025    109.75\n",
       "1026    117.68\n",
       "1027    160.68\n",
       "Name: Vol., Length: 1028, dtype: float64"
      ]
     },
     "execution_count": 10,
     "metadata": {},
     "output_type": "execute_result"
    }
   ],
   "source": [
    " Apple['Vol.']=Apple['Vol.'].str.replace('M', '').astype(float)\n",
    " Apple['Vol.']"
   ]
  },
  {
   "cell_type": "markdown",
   "metadata": {
    "id": "sdIz95GCqYbP"
   },
   "source": []
  },
  {
   "cell_type": "markdown",
   "metadata": {
    "id": "mhRefLbwqvnh"
   },
   "source": [
    "**Supprimer le symbole \"%' du colonnes \"change'**"
   ]
  },
  {
   "cell_type": "code",
   "execution_count": null,
   "metadata": {
    "colab": {
     "base_uri": "https://localhost:8080/"
    },
    "id": "hUguOvaDpWXX",
    "outputId": "2689c140-82d7-4b6d-977a-1481f0ba43e2"
   },
   "outputs": [
    {
     "data": {
      "text/plain": [
       "0        0.51%\n",
       "1       -1.90%\n",
       "2        0.26%\n",
       "3        1.68%\n",
       "4        0.01%\n",
       "         ...  \n",
       "1023     0.37%\n",
       "1024    -0.09%\n",
       "1025    -1.07%\n",
       "1026     1.40%\n",
       "1027     1.02%\n",
       "Name: Change %, Length: 1028, dtype: object"
      ]
     },
     "execution_count": 11,
     "metadata": {},
     "output_type": "execute_result"
    }
   ],
   "source": [
    "Apple['Change %']"
   ]
  },
  {
   "cell_type": "code",
   "execution_count": null,
   "metadata": {
    "colab": {
     "base_uri": "https://localhost:8080/"
    },
    "id": "N2MsYX8vrDPu",
    "outputId": "d8dca804-963e-465c-fa50-d8b531360fcd"
   },
   "outputs": [
    {
     "data": {
      "text/plain": [
       "0       0.51\n",
       "1      -1.90\n",
       "2       0.26\n",
       "3       1.68\n",
       "4       0.01\n",
       "        ... \n",
       "1023    0.37\n",
       "1024   -0.09\n",
       "1025   -1.07\n",
       "1026    1.40\n",
       "1027    1.02\n",
       "Name: Change %, Length: 1028, dtype: float64"
      ]
     },
     "execution_count": 12,
     "metadata": {},
     "output_type": "execute_result"
    }
   ],
   "source": [
    "Apple['Change %']=Apple['Change %'].str.replace('%', '').astype(float)\n",
    "Apple['Change %']"
   ]
  },
  {
   "cell_type": "markdown",
   "metadata": {
    "id": "DrVL5r4IzZ80"
   },
   "source": [
    "**Variances du price avec les variables**"
   ]
  },
  {
   "cell_type": "code",
   "execution_count": null,
   "metadata": {
    "colab": {
     "base_uri": "https://localhost:8080/",
     "height": 284
    },
    "id": "3wYfqRuJyKTg",
    "outputId": "41ee32fc-eb3b-41a8-81a3-a869a2ab9e07"
   },
   "outputs": [
    {
     "data": {
      "text/plain": [
       "<matplotlib.legend.Legend at 0x7f6b6b4cad90>"
      ]
     },
     "execution_count": 13,
     "metadata": {},
     "output_type": "execute_result"
    },
    {
     "data": {
      "image/png": "[encoded data removed]",
      "text/plain": [
       "<Figure size 432x288 with 1 Axes>"
      ]
     },
     "metadata": {},
     "output_type": "display_data"
    }
   ],
   "source": [
    "cols=['Price', 'Open']\n",
    "plt.figure()\n",
    "plt.plot(Apple.loc[:,cols])\n",
    "plt.legend(cols)"
   ]
  },
  {
   "cell_type": "code",
   "execution_count": null,
   "metadata": {
    "colab": {
     "base_uri": "https://localhost:8080/",
     "height": 284
    },
    "id": "Nja90VfZv9ii",
    "outputId": "00a6a357-1e66-4e9d-ceaf-0f3f5e93a990"
   },
   "outputs": [
    {
     "data": {
      "text/plain": [
       "<matplotlib.legend.Legend at 0x7f6b6b199290>"
      ]
     },
     "execution_count": 14,
     "metadata": {},
     "output_type": "execute_result"
    },
    {
     "data": {
      "image/png": "[encoded data removed]",
      "text/plain": [
       "<Figure size 432x288 with 1 Axes>"
      ]
     },
     "metadata": {},
     "output_type": "display_data"
    }
   ],
   "source": [
    "cols=['Price', 'High']\n",
    "plt.figure()\n",
    "plt.plot(Apple.loc[:,cols])\n",
    "plt.legend(cols)\n",
    "\n",
    "\n"
   ]
  },
  {
   "cell_type": "code",
   "execution_count": null,
   "metadata": {
    "colab": {
     "base_uri": "https://localhost:8080/",
     "height": 284
    },
    "id": "uSu40D7azNtk",
    "outputId": "3b2c701e-64ed-41e9-908e-94515e79a61d"
   },
   "outputs": [
    {
     "data": {
      "text/plain": [
       "<matplotlib.legend.Legend at 0x7f6b6bea0810>"
      ]
     },
     "execution_count": 15,
     "metadata": {},
     "output_type": "execute_result"
    },
    {
     "data": {
      "image/png": "[encoded data removed]",
      "text/plain": [
       "<Figure size 432x288 with 1 Axes>"
      ]
     },
     "metadata": {},
     "output_type": "display_data"
    }
   ],
   "source": [
    "cols=['Price', 'Low']\n",
    "plt.figure()\n",
    "plt.plot(Apple.loc[:,cols])\n",
    "plt.legend(cols)"
   ]
  },
  {
   "cell_type": "markdown",
   "metadata": {
    "id": "5HCv1Lu61MnU"
   },
   "source": [
    "**Variances des variables entre eux**"
   ]
  },
  {
   "cell_type": "code",
   "execution_count": null,
   "metadata": {
    "colab": {
     "base_uri": "https://localhost:8080/"
    },
    "id": "OaOJhVov0sa8",
    "outputId": "9152552e-a191-43aa-90ac-7aeeea3cf122"
   },
   "outputs": [
    {
     "data": {
      "text/plain": [
       "<seaborn.axisgrid.PairGrid at 0x7f6b6acdba10>"
      ]
     },
     "execution_count": 16,
     "metadata": {},
     "output_type": "execute_result"
    }
   ],
   "source": [
    "sns.pairplot(Apple,height=2.5)"
   ]
  },
  {
   "cell_type": "markdown",
   "metadata": {
    "id": "lsNVwz-A13c0"
   },
   "source": [
    "**Missig value**"
   ]
  },
  {
   "cell_type": "code",
   "execution_count": null,
   "metadata": {
    "id": "RB3fOIca2JSl"
   },
   "outputs": [],
   "source": [
    "Apple.isna().sum().sum()"
   ]
  },
  {
   "cell_type": "code",
   "execution_count": null,
   "metadata": {
    "id": "HKNkAr6117hk"
   },
   "outputs": [],
   "source": [
    "Apple.isna().sum()"
   ]
  },
  {
   "cell_type": "code",
   "execution_count": null,
   "metadata": {
    "id": "m3__BFqd2N_d"
   },
   "outputs": [],
   "source": [
    "import seaborn as sns\n",
    "\n",
    "# We start by importing matplotlib\n",
    "import matplotlib.pyplot as plt\n",
    "plt.figure(figsize= (20,10)  )\n",
    "sns.barplot(x=Apple.columns,y=Apple.isna().sum(),orient='v')\n",
    "plt.title(\"Nombre des variable monquant dans chaque colonnes\",size=25)\n",
    "plt.show()"
   ]
  },
  {
   "cell_type": "markdown",
   "metadata": {
    "id": "swpMvFMU3tao"
   },
   "source": [
    "**Remplae les missing values par la moyenne**"
   ]
  },
  {
   "cell_type": "code",
   "execution_count": null,
   "metadata": {
    "id": "W-6fSV0a3sXD"
   },
   "outputs": [],
   "source": [
    "Apple=Apple.fillna(Apple.mean(), limit = 10000)\n",
    "print('les missing value rester',Apple.isna().sum().sum())"
   ]
  },
  {
   "cell_type": "code",
   "execution_count": null,
   "metadata": {
    "id": "sDDoqHLH4pQv"
   },
   "outputs": [],
   "source": [
    "Apple.isna().sum()"
   ]
  },
  {
   "cell_type": "markdown",
   "metadata": {
    "id": "P72Rop1h47PC"
   },
   "source": [
    "**Supprimer les ligne qui contien des missing value sur la variable  Date**"
   ]
  },
  {
   "cell_type": "code",
   "execution_count": null,
   "metadata": {
    "id": "OHNx219d45vR"
   },
   "outputs": [],
   "source": [
    "Apple=Apple.dropna(axis=0)"
   ]
  },
  {
   "cell_type": "code",
   "execution_count": null,
   "metadata": {
    "id": "CXTwLKjN5ze5"
   },
   "outputs": [],
   "source": [
    "print('les missing value rester',Apple.isna().sum().sum())"
   ]
  },
  {
   "cell_type": "markdown",
   "metadata": {
    "id": "bzD4XfeK6M-m"
   },
   "source": [
    "**Matrice de correlation avant la reduction de  dimentionalité**"
   ]
  },
  {
   "cell_type": "code",
   "execution_count": null,
   "metadata": {
    "id": "qebartuK576V"
   },
   "outputs": [],
   "source": [
    "import seaborn as sns\n",
    "plt.figure(figsize=(16,13))\n",
    "sns.heatmap(Apple.corr( ).abs(),annot=True)"
   ]
  },
  {
   "cell_type": "code",
   "execution_count": null,
   "metadata": {
    "id": "p4p4qZwK6on1"
   },
   "outputs": [],
   "source": []
  },
  {
   "cell_type": "markdown",
   "metadata": {
    "id": "ak20xRpK6pzt"
   },
   "source": [
    "**Convert Date to integer**\n"
   ]
  },
  {
   "cell_type": "code",
   "execution_count": null,
   "metadata": {
    "id": "DGedy8gw6m--"
   },
   "outputs": [],
   "source": [
    "Apple['Date']=pd.to_datetime(Apple['Date']).dt.strftime(\"%Y%m%d\")\n",
    "Apple['Date']"
   ]
  },
  {
   "cell_type": "markdown",
   "metadata": {
    "id": "u6fOW-uQF0n6"
   },
   "source": [
    "**la normalisation des  données**"
   ]
  },
  {
   "cell_type": "code",
   "execution_count": null,
   "metadata": {
    "colab": {
     "base_uri": "https://localhost:8080/"
    },
    "id": "Q_ukwKv6Fzlj",
    "outputId": "d887d934-80a7-4238-b051-6c79b2665b08"
   },
   "outputs": [
    {
     "data": {
      "text/plain": [
       "0       20220114\n",
       "1       20220113\n",
       "2       20220112\n",
       "3       20220111\n",
       "4       20220110\n",
       "          ...   \n",
       "1023    20171221\n",
       "1024    20171220\n",
       "1025    20171219\n",
       "1026    20171218\n",
       "1027    20171215\n",
       "Name: Date, Length: 1018, dtype: object"
      ]
     },
     "execution_count": 30,
     "metadata": {},
     "output_type": "execute_result"
    }
   ],
   "source": [
    "from sklearn.preprocessing import StandardScaler\n",
    "cols=['Price', 'Open', 'High', 'Low', 'Vol.', 'Change %', 'coef','state', 'activity_in', 'activity_out']\n",
    "scaler = StandardScaler(copy=True, with_mean=True, with_std=True)\n",
    "Apple[cols]= scaler.fit_transform(Apple[cols])"
   ]
  },
  {
   "cell_type": "markdown",
   "metadata": {
    "id": "ocJGFLNV8QsC"
   },
   "source": [
    "**----------------La pédiction avec SVR -------------------------**"
   ]
  },
  {
   "cell_type": "markdown",
   "metadata": {
    "id": "830nChqe8oI6"
   },
   "source": [
    "**Destribution de dataset tria et test**"
   ]
  },
  {
   "cell_type": "code",
   "execution_count": null,
   "metadata": {
    "id": "ONipSF1t8MPi"
   },
   "outputs": [],
   "source": [
    "from sklearn.model_selection import train_test_split\n",
    "#avec tout les variable sauf Price\n",
    "cols=['Date','Open', 'High', 'Low', 'Vol.', 'Change %', 'coef','state', 'activity_in', 'activity_out']\n",
    "X=Apple[cols]\n",
    "y=Apple['Price']\n",
    "X_train, X_test, y_train, y_test = train_test_split(X,y, test_size=0.33, random_state=42)"
   ]
  },
  {
   "cell_type": "markdown",
   "metadata": {
    "id": "P3PHCkqW9VsB"
   },
   "source": [
    "**Importation du Modèle**"
   ]
  },
  {
   "cell_type": "code",
   "execution_count": null,
   "metadata": {
    "id": "DfDioHLy9U6t"
   },
   "outputs": [],
   "source": [
    "from sklearn.svm import SVR\n",
    "SVRModel = SVR(C = 1.5 ,epsilon=0.) # it also can be : linear, poly, rbf, sigmoid, precomputed\n",
    "SVRModel.fit(X_train, y_train)\n",
    "#Calculating Prediction\n",
    "y_pred = SVRModel.predict(X_test)"
   ]
  },
  {
   "cell_type": "markdown",
   "metadata": {
    "id": "hWXpfPU5AYMl"
   },
   "source": [
    "**Calculate error**"
   ]
  },
  {
   "cell_type": "code",
   "execution_count": null,
   "metadata": {
    "colab": {
     "base_uri": "https://localhost:8080/"
    },
    "id": "0Y5Kt2AEAXbl",
    "outputId": "7f1b39eb-6b32-4dd9-d9ff-7ec039f7a91e"
   },
   "outputs": [
    {
     "name": "stdout",
     "output_type": "stream",
     "text": [
      "Mean Absolute Error Value is :  0.8481654449289096\n",
      "Mean Squared Error Value is :  1.1446612243830525\n",
      "Median Squared Error Value is :  0.5851902887949534\n"
     ]
    }
   ],
   "source": [
    "\n",
    "from sklearn.metrics import mean_absolute_error \n",
    "from sklearn.metrics import mean_squared_error \n",
    "from sklearn.metrics import median_absolute_error\n",
    "#Calculating Mean Absolute Error\n",
    "MAEValue = mean_absolute_error(y_test, y_pred, multioutput='uniform_average') # it can be raw_values\n",
    "print('Mean Absolute Error Value is : ', MAEValue)\n",
    "\n",
    "#----------------------------------------------------\n",
    "#Calculating Mean Squared Error\n",
    "MSEValue = mean_squared_error(y_test, y_pred, multioutput='uniform_average') # it can be raw_values\n",
    "print('Mean Squared Error Value is : ', MSEValue)\n",
    "\n",
    "#----------------------------------------------------\n",
    "#Calculating Median Squared Error\n",
    "MdSEValue = median_absolute_error(y_test, y_pred)\n",
    "print('Median Squared Error Value is : ', MdSEValue )\n"
   ]
  },
  {
   "cell_type": "markdown",
   "metadata": {
    "id": "ApAnhkjOAGlU"
   },
   "source": [
    "**-------------la prediction avec Linear regression-----------------**"
   ]
  },
  {
   "cell_type": "code",
   "execution_count": null,
   "metadata": {
    "colab": {
     "base_uri": "https://localhost:8080/"
    },
    "id": "u_cp-BHH95Wb",
    "outputId": "839cbe3c-6a4e-4bc7-feff-01e63aeadb8f"
   },
   "outputs": [
    {
     "name": "stdout",
     "output_type": "stream",
     "text": [
      "Linear Regression Train Score is :  0.9831119304283003\n",
      "Linear Regression Test Score is :  0.9932125377438031\n"
     ]
    }
   ],
   "source": [
    "from sklearn.linear_model import LinearRegression\n",
    "\n",
    "LinearRegressionModel = LinearRegression()\n",
    "LinearRegressionModel.fit(X_train, y_train)\n",
    "\n",
    "#Calculating Details\n",
    "print('Linear Regression Train Score is : ' , LinearRegressionModel.score(X_train, y_train))\n",
    "print('Linear Regression Test Score is : ' , LinearRegressionModel.score(X_test, y_test))\n",
    "\n",
    "\n",
    "#Calculating Prediction\n",
    "y_pred = LinearRegressionModel.predict(X_test)\n"
   ]
  },
  {
   "cell_type": "markdown",
   "metadata": {
    "id": "G0legqpOAN63"
   },
   "source": [
    "**calculate Error**"
   ]
  },
  {
   "cell_type": "code",
   "execution_count": null,
   "metadata": {
    "colab": {
     "base_uri": "https://localhost:8080/"
    },
    "id": "rV4dBovK_zQn",
    "outputId": "2451f3ad-de48-44cb-901b-3c65becd2283"
   },
   "outputs": [
    {
     "name": "stdout",
     "output_type": "stream",
     "text": [
      "Mean Absolute Error Value is :  0.03027568391195516\n",
      "Mean Squared Error Value is :  0.0066996981661490585\n",
      "Median Squared Error Value is :  0.015721778713557483\n"
     ]
    }
   ],
   "source": [
    "#----------------------------------------------------\n",
    "#Calculating Mean Absolute Error\n",
    "MAEValue = mean_absolute_error(y_test, y_pred, multioutput='uniform_average') # it can be raw_values\n",
    "print('Mean Absolute Error Value is : ', MAEValue)\n",
    "\n",
    "#----------------------------------------------------\n",
    "#Calculating Mean Squared Error\n",
    "MSEValue = mean_squared_error(y_test, y_pred, multioutput='uniform_average') # it can be raw_values\n",
    "print('Mean Squared Error Value is : ', MSEValue)\n",
    "\n",
    "#----------------------------------------------------\n",
    "#Calculating Median Squared Error\n",
    "MdSEValue = median_absolute_error(y_test, y_pred)\n",
    "print('Median Squared Error Value is : ', MdSEValue )"
   ]
  },
  {
   "cell_type": "markdown",
   "metadata": {
    "id": "oj_XFCn9gOr-"
   },
   "source": [
    "**Extraire les features names**"
   ]
  },
  {
   "cell_type": "code",
   "execution_count": null,
   "metadata": {
    "id": "ITxGlFxNgPB0"
   },
   "outputs": [],
   "source": [
    "feature_names = X_train.columns\n",
    "feature_names[0]\n",
    "Feature_names=[]\n",
    "for i in range (len(feature_names)):\n",
    "    Feature_names=Feature_names+[feature_names[i]]\n",
    "Feature_names"
   ]
  },
  {
   "cell_type": "markdown",
   "metadata": {
    "id": "cwXPoyAddppe"
   },
   "source": [
    "**Variance**"
   ]
  },
  {
   "cell_type": "code",
   "execution_count": null,
   "metadata": {
    "id": "0I4gbVvpdz0U"
   },
   "outputs": [],
   "source": [
    "# Import VarianceThreshold from Scikit-learn\n",
    "from sklearn.feature_selection import VarianceThreshold"
   ]
  },
  {
   "cell_type": "code",
   "execution_count": null,
   "metadata": {
    "id": "rjbNNHetd489"
   },
   "outputs": [],
   "source": [
    "# Create VarianceThreshold object to perform variance thresholding\n",
    "selector = VarianceThreshold()\n",
    "\n",
    "# Perform variance thresholding\n",
    "selector.fit_transform(X_train)\n",
    "\n",
    "# Print the name and variance of each feature\n",
    "for feature in zip(feature_names, selector.variances_):\n",
    "    print(feature)"
   ]
  },
  {
   "cell_type": "code",
   "execution_count": null,
   "metadata": {
    "id": "3f74mwJad7A2"
   },
   "outputs": [],
   "source": [
    "# Create a bar chart for visualizing the variances\n",
    "plt.figure(figsize=(4,4))\n",
    "plt.bar(x=feature_names, height=selector.variances_, color='tomato')\n",
    "plt.xticks(rotation='vertical')\n",
    "plt.ylabel('Variance')\n",
    "plt.title('Variance Comparison')\n",
    "\n",
    "plt.show()"
   ]
  },
  {
   "cell_type": "markdown",
   "metadata": {
    "id": "RmGMmFAPd9KG"
   },
   "source": [
    "\n",
    "**Critère de l’information mutuelle.**"
   ]
  },
  {
   "cell_type": "code",
   "execution_count": null,
   "metadata": {
    "id": "XPQKfDqZeDI2"
   },
   "outputs": [],
   "source": [
    "# Import mutual_info_classif from Scikit-learn\n",
    "from sklearn.feature_selection import mutual_info_regression"
   ]
  },
  {
   "cell_type": "code",
   "execution_count": null,
   "metadata": {
    "id": "03k2JnRPeEsf"
   },
   "outputs": [],
   "source": [
    "# Create mutual_info_classif object to calculate mutual information\n",
    "MI_score = mutual_info_regression(X_train, y_train, random_state=0)\n",
    "\n",
    "# Print the name and mutual information score of each feature\n",
    "for feature in zip(feature_names, MI_score):\n",
    "    print(feature)"
   ]
  },
  {
   "cell_type": "code",
   "execution_count": null,
   "metadata": {
    "id": "BrdzSHG0eHfe"
   },
   "outputs": [],
   "source": [
    "# Create a bar chart for visualizing the mutual information scores\n",
    "plt.figure(figsize=(4,4))\n",
    "plt.bar(x=feature_names, height=MI_score, color='tomato')\n",
    "plt.xticks(rotation='vertical')\n",
    "plt.ylabel('Mutual Information Score')\n",
    "plt.title('Mutual Information Score Comparison')\n",
    "\n",
    "plt.show()"
   ]
  },
  {
   "cell_type": "code",
   "execution_count": null,
   "metadata": {
    "id": "xD21xhJMeQO9"
   },
   "outputs": [],
   "source": [
    "cols=['Date','Open', 'High', 'Low']\n",
    "X=Apple[cols]\n",
    "y=Apple['Price']\n",
    "X_train_ff, X_test_ff, y_train_ff, y_test_ff = train_test_split(X,y, test_size=0.33, random_state=42)\n",
    "SVRModel = SVR(C = 1.5 ,epsilon=0.) \n",
    "SVRModel.fit(X_train_ff, y_train_ff)\n",
    " \n",
    "y_pred_ff = SVRModel.predict(X_test_ff)\n",
    "print('SVR Test Score is : ' , SVRModel.score(X_test_ff,   y_test_ff, sample_weight=None))\n",
    "MAEValue = mean_absolute_error(y_test_ff, y_pred_ff, multioutput='uniform_average') # it can be raw_values\n",
    "print('SVR Mean Absolute Error Value is : ', MAEValue)\n",
    "\n",
    "#----------------------------------------------------\n",
    "#Calculating Mean Squared Error\n",
    "MSEValue = mean_squared_error(y_test_ff, y_pred_ff, multioutput='uniform_average') # it can be raw_values\n",
    "print('SVR Mean Squared Error Value is : ', MSEValue)\n",
    "\n",
    "#----------------------------------------------------\n",
    "#Calculating Median Squared Error\n",
    "MdSEValue = median_absolute_error(y_test_ff, y_pred_ff)\n",
    "print('SVR Median Squared Error Value is : ', MdSEValue )\n",
    "\n",
    "LinearRegressionModel = LinearRegression()\n",
    "LinearRegressionModel.fit(X_train_ff, y_train_ff)\n",
    "\n",
    "#Calculating Details \n",
    "print('Linear Regression Test Score is : ' , LinearRegressionModel.score(X_test_ff, y_test_ff))\n",
    "\n",
    "\n",
    "#Calculating Prediction\n",
    "y_pred = LinearRegressionModel.predict(X_test_ff)\n",
    "\n",
    "MAEValue = mean_absolute_error(y_test_ff, y_pred_ff, multioutput='uniform_average') # it can be raw_values\n",
    "print('Mean Absolute Error Value is : ', MAEValue)\n",
    "\n",
    "#----------------------------------------------------\n",
    "#Calculating Mean Squared Error\n",
    "MSEValue = mean_squared_error(y_test_ff, y_pred_ff, multioutput='uniform_average') # it can be raw_values\n",
    "print('Mean Squared Error Value is : ', MSEValue)\n",
    "\n",
    "#----------------------------------------------------\n",
    "#Calculating Median Squared Error\n",
    "MdSEValue = median_absolute_error(y_test_ff, y_pred_ff)\n",
    "print('Median Squared Error Value is : ', MdSEValue )\n"
   ]
  },
  {
   "cell_type": "markdown",
   "metadata": {
    "id": "IXZNuMaleRXV"
   },
   "source": [
    "**F-test**"
   ]
  },
  {
   "cell_type": "code",
   "execution_count": null,
   "metadata": {
    "id": "7zwbpxSLeWCG"
   },
   "outputs": [],
   "source": [
    "from sklearn.feature_selection import f_regression \n",
    "f_value = f_regression(X_train, y_train)\n",
    "\n",
    "# Print the name and F-value of each feature\n",
    "for feature in zip(feature_names, f_value[0]):\n",
    "    print(feature)"
   ]
  },
  {
   "cell_type": "code",
   "execution_count": null,
   "metadata": {
    "id": "A76Pktz4eZft"
   },
   "outputs": [],
   "source": [
    "# Create a bar chart for visualizing the F-values\n",
    "plt.figure(figsize=(4,4))\n",
    "plt.bar( x=Feature_names,height=f_value[0], color='tomato')\n",
    "plt.xticks(rotation='vertical')\n",
    "plt.ylabel('F-value')\n",
    "plt.title('F-value Comparison')\n",
    "plt.show()"
   ]
  },
  {
   "cell_type": "code",
   "execution_count": null,
   "metadata": {
    "id": "pGn0gVu6ebUG"
   },
   "outputs": [],
   "source": [
    "cols=['Open', 'High', 'Low']\n",
    "X=Apple[cols]\n",
    "y=Apple['Price']\n",
    "X_train_ff, X_test_ff, y_train_ff, y_test_ff = train_test_split(X,y, test_size=0.33, random_state=42)\n",
    "SVRModel = SVR(C = 1.5 ,epsilon=0.) \n",
    "SVRModel.fit(X_train_ff, y_train_ff)\n",
    " \n",
    "y_pred_ff = SVRModel.predict(X_test_ff)\n",
    "print('SVR Test Score is : ' , SVRModel.score(X_test_ff,   y_test_ff, sample_weight=None))\n",
    "MAEValue = mean_absolute_error(y_test_ff, y_pred_ff, multioutput='uniform_average') # it can be raw_values\n",
    "print('SVR Mean Absolute Error Value is : ', MAEValue)\n",
    "\n",
    "#----------------------------------------------------\n",
    "#Calculating Mean Squared Error\n",
    "MSEValue = mean_squared_error(y_test_ff, y_pred_ff, multioutput='uniform_average') # it can be raw_values\n",
    "print('SVR Mean Squared Error Value is : ', MSEValue)\n",
    "\n",
    "#----------------------------------------------------\n",
    "#Calculating Median Squared Error\n",
    "MdSEValue = median_absolute_error(y_test_ff, y_pred_ff)\n",
    "print('SVR Median Squared Error Value is : ', MdSEValue )\n",
    "\n",
    "LinearRegressionModel = LinearRegression()\n",
    "LinearRegressionModel.fit(X_train_ff, y_train_ff)\n",
    "\n",
    "#Calculating Details \n",
    "print('Linear Regression Test Score is : ' , LinearRegressionModel.score(X_test_ff, y_test_ff))\n",
    "\n",
    "\n",
    "#Calculating Prediction\n",
    "y_pred = LinearRegressionModel.predict(X_test_ff)\n",
    "\n",
    "MAEValue = mean_absolute_error(y_test_ff, y_pred_ff, multioutput='uniform_average') # it can be raw_values\n",
    "print('Mean Absolute Error Value is : ', MAEValue)\n",
    "\n",
    "#----------------------------------------------------\n",
    "#Calculating Mean Squared Error\n",
    "MSEValue = mean_squared_error(y_test_ff, y_pred_ff, multioutput='uniform_average') # it can be raw_values\n",
    "print('Mean Squared Error Value is : ', MSEValue)\n",
    "\n",
    "#----------------------------------------------------\n",
    "#Calculating Median Squared Error\n",
    "MdSEValue = median_absolute_error(y_test_ff, y_pred_ff)\n",
    "print('Median Squared Error Value is : ', MdSEValue )\n"
   ]
  },
  {
   "cell_type": "markdown",
   "metadata": {
    "id": "6EnkmTEfeddl"
   },
   "source": [
    "**SFS**"
   ]
  },
  {
   "cell_type": "code",
   "execution_count": null,
   "metadata": {
    "id": "5v_dNEWWec2V"
   },
   "outputs": [],
   "source": [
    "# Import SequentialFeatureSelector from Mlxtend\n",
    "from mlxtend.feature_selection import SequentialFeatureSelector as SFS"
   ]
  },
  {
   "cell_type": "code",
   "execution_count": null,
   "metadata": {
    "id": "7eGyKMyqejhc"
   },
   "outputs": [],
   "source": [
    "from sklearn.neighbors import KNeighborsClassifier\n",
    "knn = KNeighborsClassifier(n_neighbors=4)\n",
    "from mlxtend.feature_selection import SequentialFeatureSelector as SFS\n",
    "from mlxtend.plotting import plot_sequential_feature_selection as plot_sfs\n",
    "import matplotlib.pyplot as plt\n",
    "\n",
    "sfs = SFS(SVR(),\n",
    "          k_features=(1, 10), \n",
    "          forward=True, \n",
    "          floating=False, \n",
    "          scoring='neg_mean_squared_error',\n",
    "          cv=10)\n",
    "\n",
    "sfs = sfs.fit(X_train,y_train)\n",
    "fig = plot_sfs(sfs.get_metric_dict(), kind='std_err')\n",
    "print('Best subset (indices):', sfs.k_feature_idx_)\n",
    "print('Best subset (corresponding names):', sfs.k_feature_names_) \n",
    "plt.title('Sequential Forward Selection (w. StdErr)')\n",
    "plt.grid()\n",
    "plt.show()"
   ]
  },
  {
   "cell_type": "markdown",
   "metadata": {
    "id": "t36KLlxLedEX"
   },
   "source": [
    "**SBS**"
   ]
  },
  {
   "cell_type": "code",
   "execution_count": null,
   "metadata": {
    "id": "fXbGbJmZetm3"
   },
   "outputs": [],
   "source": [
    "from sklearn.neighbors import KNeighborsClassifier\n",
    "knn = KNeighborsClassifier(n_neighbors=4)\n",
    "from mlxtend.feature_selection import SequentialFeatureSelector as SFS\n",
    "from mlxtend.plotting import plot_sequential_feature_selection as plot_sfs\n",
    "import matplotlib.pyplot as plt\n",
    "\n",
    "sfs = SFS(SVR(),\n",
    "          k_features=(1, 10), \n",
    "          forward=False, \n",
    "          floating=False, \n",
    "          scoring='neg_mean_squared_error',\n",
    "          cv=10)\n",
    "\n",
    "sfs = sfs.fit(X_train,y_train)\n",
    "fig = plot_sfs(sfs.get_metric_dict(), kind='std_err')\n",
    "print('Best subset (indices):', sfs.k_feature_idx_)\n",
    "print('Best subset (corresponding names):', sfs.k_feature_names_) \n",
    "plt.title('Sequential Backward Selection (w. StdErr)')\n",
    "plt.grid()\n",
    "plt.show()"
   ]
  },
  {
   "cell_type": "markdown",
   "metadata": {
    "id": "AuB1wI9xevaN"
   },
   "source": [
    " **Predict SBS and SFS**"
   ]
  },
  {
   "cell_type": "code",
   "execution_count": null,
   "metadata": {
    "id": "aKIo1X6Be1Ec"
   },
   "outputs": [],
   "source": [
    "cols=['Open', 'Low']\n",
    "X=Apple[cols]\n",
    "y=Apple['Price']\n",
    "X_train_ff, X_test_ff, y_train_ff, y_test_ff = train_test_split(X,y, test_size=0.33, random_state=42)\n",
    "SVRModel = SVR(C = 1.5 ,epsilon=0.) \n",
    "SVRModel.fit(X_train_ff, y_train_ff)\n",
    " \n",
    "y_pred_ff = SVRModel.predict(X_test_ff)\n",
    "print('SVR Test Score is : ' , SVRModel.score(X_test_ff,   y_test_ff, sample_weight=None))\n",
    "MAEValue = mean_absolute_error(y_test_ff, y_pred_ff, multioutput='uniform_average') # it can be raw_values\n",
    "print('SVR Mean Absolute Error Value is : ', MAEValue)\n",
    "\n",
    "#----------------------------------------------------\n",
    "#Calculating Mean Squared Error\n",
    "MSEValue = mean_squared_error(y_test_ff, y_pred_ff, multioutput='uniform_average') # it can be raw_values\n",
    "print('SVR Mean Squared Error Value is : ', MSEValue)\n",
    "\n",
    "#----------------------------------------------------\n",
    "#Calculating Median Squared Error\n",
    "MdSEValue = median_absolute_error(y_test_ff, y_pred_ff)\n",
    "print('SVR Median Squared Error Value is : ', MdSEValue )\n",
    "\n",
    "LinearRegressionModel = LinearRegression()\n",
    "LinearRegressionModel.fit(X_train_ff, y_train_ff)\n",
    "\n",
    "#Calculating Details \n",
    "print('Linear Regression Test Score is : ' , LinearRegressionModel.score(X_test_ff, y_test_ff))\n",
    "\n",
    "\n",
    "#Calculating Prediction\n",
    "y_pred = LinearRegressionModel.predict(X_test_ff)\n",
    "\n",
    "MAEValue = mean_absolute_error(y_test_ff, y_pred_ff, multioutput='uniform_average') # it can be raw_values\n",
    "print('Mean Absolute Error Value is : ', MAEValue)\n",
    "\n",
    "#----------------------------------------------------\n",
    "#Calculating Mean Squared Error\n",
    "MSEValue = mean_squared_error(y_test_ff, y_pred_ff, multioutput='uniform_average') # it can be raw_values\n",
    "print('Mean Squared Error Value is : ', MSEValue)\n",
    "\n",
    "#----------------------------------------------------\n",
    "#Calculating Median Squared Error\n",
    "MdSEValue = median_absolute_error(y_test_ff, y_pred_ff)\n",
    "print('Median Squared Error Value is : ', MdSEValue )"
   ]
  },
  {
   "cell_type": "markdown",
   "metadata": {
    "id": "ywlacUrBe2nm"
   },
   "source": [
    "**Random forest**"
   ]
  },
  {
   "cell_type": "code",
   "execution_count": null,
   "metadata": {
    "id": "a3p8N0Oke6Fe"
   },
   "outputs": [],
   "source": [
    "# Import RandomForestClassifier from Scikit-learn\n",
    "from sklearn.ensemble import RandomForestRegressor"
   ]
  },
  {
   "cell_type": "code",
   "execution_count": null,
   "metadata": {
    "id": "_Apcj1dRe7X0"
   },
   "outputs": [],
   "source": [
    "# Create a random forest classifier\n",
    "rfc = RandomForestRegressor(random_state=0, \n",
    "                             ) # Use gini criterion to define feature importance\n",
    "\n",
    "# Train the classifier\n",
    "rfc.fit(X_train, y_train)\n",
    "\n",
    "# Print the name and gini importance of each feature\n",
    "for feature in zip(feature_names, rfc.feature_importances_): \n",
    "    print(feature)"
   ]
  },
  {
   "cell_type": "code",
   "execution_count": null,
   "metadata": {
    "id": "mLX5hbrDe9Y8"
   },
   "outputs": [],
   "source": [
    "# Create a bar chart for visualizing the F-values\n",
    "plt.figure(figsize=(4,4))\n",
    "plt.bar( x=feature_names,height=rfc.feature_importances_, color='tomato')\n",
    "plt.xticks(rotation='vertical')\n",
    "plt.ylabel('Importance')\n",
    "plt.title('Random forest comparaison')\n",
    "plt.show()"
   ]
  },
  {
   "cell_type": "code",
   "execution_count": null,
   "metadata": {
    "id": "8OgkOlpPe9-1"
   },
   "outputs": [],
   "source": [
    "cols=['Date','Open', 'High', 'Low']\n",
    "X=Apple[cols]\n",
    "y=Apple['Price']\n",
    "X_train_ff, X_test_ff, y_train_ff, y_test_ff = train_test_split(X,y, test_size=0.33, random_state=42)\n",
    "SVRModel = SVR(C = 1.5 ,epsilon=0.) \n",
    "SVRModel.fit(X_train_ff, y_train_ff)\n",
    " \n",
    "y_pred_ff = SVRModel.predict(X_test_ff)\n",
    "print('SVR Test Score is : ' , SVRModel.score(X_test_ff,   y_test_ff, sample_weight=None))\n",
    "MAEValue = mean_absolute_error(y_test_ff, y_pred_ff, multioutput='uniform_average') # it can be raw_values\n",
    "print('SVR Mean Absolute Error Value is : ', MAEValue)\n",
    "\n",
    "#----------------------------------------------------\n",
    "#Calculating Mean Squared Error\n",
    "MSEValue = mean_squared_error(y_test_ff, y_pred_ff, multioutput='uniform_average') # it can be raw_values\n",
    "print('SVR Mean Squared Error Value is : ', MSEValue)\n",
    "\n",
    "#----------------------------------------------------\n",
    "#Calculating Median Squared Error\n",
    "MdSEValue = median_absolute_error(y_test_ff, y_pred_ff)\n",
    "print('SVR Median Squared Error Value is : ', MdSEValue )\n",
    "\n",
    "LinearRegressionModel = LinearRegression()\n",
    "LinearRegressionModel.fit(X_train_ff, y_train_ff)\n",
    "\n",
    "#Calculating Details \n",
    "print('Linear Regression Test Score is : ' , LinearRegressionModel.score(X_test_ff, y_test_ff))\n",
    "\n",
    "\n",
    "#Calculating Prediction\n",
    "y_pred = LinearRegressionModel.predict(X_test_ff)\n",
    "\n",
    "MAEValue = mean_absolute_error(y_test_ff, y_pred_ff, multioutput='uniform_average') # it can be raw_values\n",
    "print('Mean Absolute Error Value is : ', MAEValue)\n",
    "\n",
    "#----------------------------------------------------\n",
    "#Calculating Mean Squared Error\n",
    "MSEValue = mean_squared_error(y_test_ff, y_pred_ff, multioutput='uniform_average') # it can be raw_values\n",
    "print('Mean Squared Error Value is : ', MSEValue)\n",
    "\n",
    "#----------------------------------------------------\n",
    "#Calculating Median Squared Error\n",
    "MdSEValue = median_absolute_error(y_test_ff, y_pred_ff)\n",
    "print('Median Squared Error Value is : ', MdSEValue )"
   ]
  },
  {
   "cell_type": "markdown",
   "metadata": {
    "id": "GICfwR5SfDCl"
   },
   "source": [
    "**PCA**"
   ]
  },
  {
   "cell_type": "code",
   "execution_count": null,
   "metadata": {
    "id": "8VcqU5oZfEZU"
   },
   "outputs": [],
   "source": [
    "from sklearn.decomposition import PCA\n",
    "data=Apple.drop(\"company_name\",axis='columns')\n",
    "data=data.drop(\"Price\",axis='columns')\n",
    "data\n"
   ]
  },
  {
   "cell_type": "code",
   "execution_count": null,
   "metadata": {
    "id": "ARf-VCaZfINg"
   },
   "outputs": [],
   "source": [
    "pca = PCA()\n",
    "data_pca = pd.DataFrame(pca.fit_transform(data))\n",
    "data_pca"
   ]
  },
  {
   "cell_type": "code",
   "execution_count": null,
   "metadata": {
    "id": "8ucuULSIfIv8"
   },
   "outputs": [],
   "source": [
    "pd.DataFrame(pca.explained_variance_ratio_).plot.bar()\n",
    "plt.legend('')\n",
    "plt.xlabel('Principal Components')\n",
    "plt.ylabel('Explained Varience')"
   ]
  },
  {
   "cell_type": "markdown",
   "metadata": {
    "id": "19kzIu0FfKWN"
   },
   "source": [
    "On prend les composantes dont la variance explique est sup a 0.05"
   ]
  },
  {
   "cell_type": "code",
   "execution_count": null,
   "metadata": {
    "id": "EII-wSVcfbWG"
   },
   "outputs": [],
   "source": [
    "from numpy import std   \n",
    "from sklearn.pipeline import Pipeline\n",
    "steps = [('pca', PCA(n_components=6)), ('m', SVR())]\n",
    "model = Pipeline(steps=steps)\n",
    "# evaluate model\n",
    "model.fit(X_train, y_train)\n",
    "# report performance\n",
    "model.score(X_test,   y_test, sample_weight=None)\n",
    " \n",
    "y_pred = model.predict(X_test)\n",
    "print('SVR Test Score is : ' , model.score(X_test,   y_test, sample_weight=None))\n",
    "MAEValue = mean_absolute_error(y_test, y_pred, multioutput='uniform_average') # it can be raw_values\n",
    "print('SVR Mean Absolute Error Value is : ', MAEValue)\n",
    "\n",
    "#----------------------------------------------------\n",
    "#Calculating Mean Squared Error\n",
    "MSEValue = mean_squared_error(y_test, y_pred, multioutput='uniform_average') # it can be raw_values\n",
    "print('SVR Mean Squared Error Value is : ', MSEValue)\n",
    "\n",
    "#----------------------------------------------------\n",
    "#Calculating Median Squared Error\n",
    "MdSEValue = median_absolute_error(y_test, y_pred)\n",
    "print('SVR Median Squared Error Value is : ', MdSEValue )\n",
    "\n",
    " \n",
    "steps = [('pca', PCA(n_components=6)), ('m', LinearRegression())]\n",
    "model = Pipeline(steps=steps)\n",
    "# evaluate model\n",
    "model.fit(X_train, y_train)\n",
    "# report performance\n",
    "model.score(X_test,   y_test, sample_weight=None)\n",
    " \n",
    "y_pred_ff = model.predict(X_test)\n",
    "print('linear regression Test Score is : ' , model.score(X_test,   y_test, sample_weight=None))\n",
    "MAEValue = mean_absolute_error(y_test, y_pred, multioutput='uniform_average') # it can be raw_values\n",
    "print(' Mean Absolute Error Value is : ', MAEValue)\n",
    "\n",
    "#----------------------------------------------------\n",
    "#Calculating Mean Squared Error\n",
    "MSEValue = mean_squared_error(y_test, y_pred, multioutput='uniform_average') # it can be raw_values\n",
    "print(' Mean Squared Error Value is : ', MSEValue)\n",
    "\n",
    "#----------------------------------------------------\n",
    "#Calculating Median Squared Error\n",
    "MdSEValue = median_absolute_error(y_test, y_pred)\n",
    "print(' Median Squared Error Value is : ', MdSEValue )"
   ]
  },
  {
   "cell_type": "markdown",
   "metadata": {
    "id": "VmpQWJfIAMui"
   },
   "source": []
  }
 ],
 "metadata": {
  "colab": {
   "collapsed_sections": [],
   "name": "Data pre-processing.ipynb",
   "provenance": []
  },
  "kernelspec": {
   "display_name": "Python 3 (ipykernel)",
   "language": "python",
   "name": "python3"
  },
  "language_info": {
   "codemirror_mode": {
    "name": "ipython",
    "version": 3
   },
   "file_extension": ".py",
   "mimetype": "text/x-python",
   "name": "python",
   "nbconvert_exporter": "python",
   "pygments_lexer": "ipython3",
   "version": "3.9.7"
  }
 },
 "nbformat": 4,
 "nbformat_minor": 1
}
